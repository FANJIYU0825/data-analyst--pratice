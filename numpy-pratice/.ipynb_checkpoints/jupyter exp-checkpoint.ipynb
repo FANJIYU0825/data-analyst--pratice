{
  "nbformat": 4,
  "nbformat_minor": 0,
  "metadata": {
    "kernelspec": {
      "display_name": "Python 3",
      "language": "python",
      "name": "python3"
    },
    "language_info": {
      "codemirror_mode": {
        "name": "ipython",
        "version": 3
      },
      "file_extension": ".py",
      "mimetype": "text/x-python",
      "name": "python",
      "nbconvert_exporter": "python",
      "pygments_lexer": "ipython3",
      "version": "3.7.4"
    },
    "colab": {
      "name": "jupyter exp-checkpoint.ipynb",
      "provenance": []
    }
  },
  "cells": [
    {
      "cell_type": "code",
      "metadata": {
        "id": "sbISXhK1aFM5"
      },
      "source": [
        "import os \n",
        "import pandas as pd\n",
        "import numpy as np"
      ],
      "execution_count": 4,
      "outputs": []
    },
    {
      "cell_type": "markdown",
      "metadata": {
        "id": "j6So-bgLaFNF"
      },
      "source": [
        " Merge data from each month into one CSV"
      ]
    },
    {
      "cell_type": "markdown",
      "metadata": {
        "id": "ImI5LCRkaFNH"
      },
      "source": [
        "merge data from each city"
      ]
    },
    {
      "cell_type": "code",
      "metadata": {
        "id": "EY-eE_cCaFNJ"
      },
      "source": [
        "df_a = pd.read_csv('https://raw.githubusercontent.com/FANJIYU0825/data-analyst--pratice/master/numpy-pratice/data/a_lvr_land_a.csv',encoding ='utf-8')\n",
        "df_a = df_a.drop([0,0])\n",
        "df_b = pd.read_csv('https://raw.githubusercontent.com/FANJIYU0825/data-analyst--pratice/master/numpy-pratice/data/b_lvr_land_a.csv',encoding ='utf-8')\n",
        "df_b = df_b.drop([0,0])\n",
        "df_e = pd.read_csv('https://raw.githubusercontent.com/FANJIYU0825/data-analyst--pratice/master/numpy-pratice/data/e_lvr_land_a.csv',encoding ='utf-8')\n",
        "df_e = df_e.drop([0,0])\n",
        "df_f = pd.read_csv('https://raw.githubusercontent.com/FANJIYU0825/data-analyst--pratice/master/numpy-pratice/data/f_lvr_land_a.csv',encoding ='utf-8')\n",
        "df_f = df_f.drop([0,0])\n",
        "df_h = pd.read_csv('https://raw.githubusercontent.com/FANJIYU0825/data-analyst--pratice/master/numpy-pratice/data/h_lvr_land_a.csv',encoding ='utf-8')\n",
        "df_h = df_h.drop([0,0])"
      ],
      "execution_count": 5,
      "outputs": []
    },
    {
      "cell_type": "code",
      "metadata": {
        "id": "9tQPZz1jaFNS",
        "outputId": "205b0922-3339-42f3-b3d3-4b12f3c84b15",
        "colab": {
          "base_uri": "https://localhost:8080/",
          "height": 1000
        }
      },
      "source": [
        "df_all = pd.concat([df_a,df_b,df_e,df_f,df_h],axis = 0)\n",
        "df_all.head()"
      ],
      "execution_count": 6,
      "outputs": [
        {
          "output_type": "execute_result",
          "data": {
            "text/html": [
              "<div>\n",
              "<style scoped>\n",
              "    .dataframe tbody tr th:only-of-type {\n",
              "        vertical-align: middle;\n",
              "    }\n",
              "\n",
              "    .dataframe tbody tr th {\n",
              "        vertical-align: top;\n",
              "    }\n",
              "\n",
              "    .dataframe thead th {\n",
              "        text-align: right;\n",
              "    }\n",
              "</style>\n",
              "<table border=\"1\" class=\"dataframe\">\n",
              "  <thead>\n",
              "    <tr style=\"text-align: right;\">\n",
              "      <th></th>\n",
              "      <th>鄉鎮市區</th>\n",
              "      <th>交易標的</th>\n",
              "      <th>土地區段位置建物區段門牌</th>\n",
              "      <th>土地移轉總面積平方公尺</th>\n",
              "      <th>都市土地使用分區</th>\n",
              "      <th>非都市土地使用分區</th>\n",
              "      <th>非都市土地使用編定</th>\n",
              "      <th>交易年月日</th>\n",
              "      <th>交易筆棟數</th>\n",
              "      <th>移轉層次</th>\n",
              "      <th>總樓層數</th>\n",
              "      <th>建物型態</th>\n",
              "      <th>主要用途</th>\n",
              "      <th>主要建材</th>\n",
              "      <th>建築完成年月</th>\n",
              "      <th>建物移轉總面積平方公尺</th>\n",
              "      <th>建物現況格局-房</th>\n",
              "      <th>建物現況格局-廳</th>\n",
              "      <th>建物現況格局-衛</th>\n",
              "      <th>建物現況格局-隔間</th>\n",
              "      <th>有無管理組織</th>\n",
              "      <th>總價元</th>\n",
              "      <th>單價元平方公尺</th>\n",
              "      <th>車位類別</th>\n",
              "      <th>車位移轉總面積平方公尺</th>\n",
              "      <th>車位總價元</th>\n",
              "      <th>備註</th>\n",
              "      <th>編號</th>\n",
              "    </tr>\n",
              "  </thead>\n",
              "  <tbody>\n",
              "    <tr>\n",
              "      <th>1</th>\n",
              "      <td>中正區</td>\n",
              "      <td>房地(土地+建物)</td>\n",
              "      <td>臺北市中正區汀州路一段125巷1~30號</td>\n",
              "      <td>28.03</td>\n",
              "      <td>住</td>\n",
              "      <td>NaN</td>\n",
              "      <td>NaN</td>\n",
              "      <td>1081219</td>\n",
              "      <td>土地2建物1車位0</td>\n",
              "      <td>三層</td>\n",
              "      <td>四層</td>\n",
              "      <td>公寓(5樓含以下無電梯)</td>\n",
              "      <td>見其他登記事項</td>\n",
              "      <td>鋼筋混凝土造</td>\n",
              "      <td>0660607</td>\n",
              "      <td>79.45</td>\n",
              "      <td>3</td>\n",
              "      <td>2</td>\n",
              "      <td>2</td>\n",
              "      <td>有</td>\n",
              "      <td>無</td>\n",
              "      <td>9000000</td>\n",
              "      <td>113279</td>\n",
              "      <td>NaN</td>\n",
              "      <td>0.0</td>\n",
              "      <td>0</td>\n",
              "      <td>含增建或未登記建物。;</td>\n",
              "      <td>RPVNMLPKJHPFFAA97CA</td>\n",
              "    </tr>\n",
              "    <tr>\n",
              "      <th>2</th>\n",
              "      <td>文山區</td>\n",
              "      <td>房地(土地+建物)+車位</td>\n",
              "      <td>臺北市文山區萬壽路61~90號</td>\n",
              "      <td>33.37</td>\n",
              "      <td>住</td>\n",
              "      <td>NaN</td>\n",
              "      <td>NaN</td>\n",
              "      <td>1081224</td>\n",
              "      <td>土地1建物1車位1</td>\n",
              "      <td>二層</td>\n",
              "      <td>五層</td>\n",
              "      <td>華廈(10層含以下有電梯)</td>\n",
              "      <td>住家用</td>\n",
              "      <td>鋼筋混凝土造</td>\n",
              "      <td>0970527</td>\n",
              "      <td>79.62</td>\n",
              "      <td>1</td>\n",
              "      <td>1</td>\n",
              "      <td>1</td>\n",
              "      <td>有</td>\n",
              "      <td>有</td>\n",
              "      <td>8330000</td>\n",
              "      <td>104635</td>\n",
              "      <td>坡道機械</td>\n",
              "      <td>0.0</td>\n",
              "      <td>0</td>\n",
              "      <td>陽台外推</td>\n",
              "      <td>RPWNMLPKJHPFFAA08CA</td>\n",
              "    </tr>\n",
              "    <tr>\n",
              "      <th>3</th>\n",
              "      <td>文山區</td>\n",
              "      <td>房地(土地+建物)+車位</td>\n",
              "      <td>臺北市文山區興順街80巷1~30號</td>\n",
              "      <td>22.52</td>\n",
              "      <td>住</td>\n",
              "      <td>NaN</td>\n",
              "      <td>NaN</td>\n",
              "      <td>1081222</td>\n",
              "      <td>土地1建物1車位2</td>\n",
              "      <td>四層</td>\n",
              "      <td>十四層</td>\n",
              "      <td>住宅大樓(11層含以上有電梯)</td>\n",
              "      <td>住家用</td>\n",
              "      <td>鋼筋混凝土造</td>\n",
              "      <td>0960125</td>\n",
              "      <td>129.69</td>\n",
              "      <td>2</td>\n",
              "      <td>2</td>\n",
              "      <td>1</td>\n",
              "      <td>有</td>\n",
              "      <td>有</td>\n",
              "      <td>17960000</td>\n",
              "      <td>138484</td>\n",
              "      <td>坡道機械</td>\n",
              "      <td>42.48</td>\n",
              "      <td>0</td>\n",
              "      <td>NaN</td>\n",
              "      <td>RPSOMLPKJHPFFAA77CA</td>\n",
              "    </tr>\n",
              "    <tr>\n",
              "      <th>4</th>\n",
              "      <td>文山區</td>\n",
              "      <td>房地(土地+建物)+車位</td>\n",
              "      <td>臺北市文山區木新路三段45巷7弄1~30號</td>\n",
              "      <td>36.08</td>\n",
              "      <td>住</td>\n",
              "      <td>NaN</td>\n",
              "      <td>NaN</td>\n",
              "      <td>1081204</td>\n",
              "      <td>土地1建物1車位1</td>\n",
              "      <td>一層</td>\n",
              "      <td>七層</td>\n",
              "      <td>華廈(10層含以下有電梯)</td>\n",
              "      <td>住家用</td>\n",
              "      <td>鋼筋混凝土造</td>\n",
              "      <td>0841207</td>\n",
              "      <td>275.5</td>\n",
              "      <td>3</td>\n",
              "      <td>2</td>\n",
              "      <td>2</td>\n",
              "      <td>有</td>\n",
              "      <td>有</td>\n",
              "      <td>30000000</td>\n",
              "      <td>108893</td>\n",
              "      <td>坡道平面</td>\n",
              "      <td>0.0</td>\n",
              "      <td>0</td>\n",
              "      <td>含增建或未登記建物。;</td>\n",
              "      <td>RPUOMLPKJHPFFAA97CA</td>\n",
              "    </tr>\n",
              "    <tr>\n",
              "      <th>5</th>\n",
              "      <td>文山區</td>\n",
              "      <td>房地(土地+建物)</td>\n",
              "      <td>臺北市文山區辛亥路七段84巷1~30號</td>\n",
              "      <td>19.17</td>\n",
              "      <td>住</td>\n",
              "      <td>NaN</td>\n",
              "      <td>NaN</td>\n",
              "      <td>1081212</td>\n",
              "      <td>土地2建物1車位0</td>\n",
              "      <td>二層</td>\n",
              "      <td>十層</td>\n",
              "      <td>華廈(10層含以下有電梯)</td>\n",
              "      <td>住家用</td>\n",
              "      <td>鋼筋混凝土造</td>\n",
              "      <td>0891025</td>\n",
              "      <td>80.38</td>\n",
              "      <td>2</td>\n",
              "      <td>2</td>\n",
              "      <td>2</td>\n",
              "      <td>有</td>\n",
              "      <td>有</td>\n",
              "      <td>11800000</td>\n",
              "      <td>146803</td>\n",
              "      <td>NaN</td>\n",
              "      <td>0.0</td>\n",
              "      <td>0</td>\n",
              "      <td>含增建或未登記建物。;</td>\n",
              "      <td>RPXOMLNKJHPFFAA08CA</td>\n",
              "    </tr>\n",
              "  </tbody>\n",
              "</table>\n",
              "</div>"
            ],
            "text/plain": [
              "  鄉鎮市區          交易標的  ...           備註                   編號\n",
              "1  中正區     房地(土地+建物)  ...  含增建或未登記建物。;  RPVNMLPKJHPFFAA97CA\n",
              "2  文山區  房地(土地+建物)+車位  ...         陽台外推  RPWNMLPKJHPFFAA08CA\n",
              "3  文山區  房地(土地+建物)+車位  ...          NaN  RPSOMLPKJHPFFAA77CA\n",
              "4  文山區  房地(土地+建物)+車位  ...  含增建或未登記建物。;  RPUOMLPKJHPFFAA97CA\n",
              "5  文山區     房地(土地+建物)  ...  含增建或未登記建物。;  RPXOMLNKJHPFFAA08CA\n",
              "\n",
              "[5 rows x 28 columns]"
            ]
          },
          "metadata": {
            "tags": []
          },
          "execution_count": 6
        }
      ]
    },
    {
      "cell_type": "markdown",
      "metadata": {
        "id": "dL5hFYomaFNc"
      },
      "source": [
        "總樓數因為是中文所以必須去轉換成為數值"
      ]
    },
    {
      "cell_type": "code",
      "metadata": {
        "id": "6Rjaxh56aFNe",
        "outputId": "8a3ec6b0-34e5-481f-cde2-4bfc6c9a64f4",
        "colab": {
          "base_uri": "https://localhost:8080/",
          "height": 119
        }
      },
      "source": [
        "floor = df_all['總樓層數'].str[0:2]\n",
        "floor.head()"
      ],
      "execution_count": 7,
      "outputs": [
        {
          "output_type": "execute_result",
          "data": {
            "text/plain": [
              "1    四層\n",
              "2    五層\n",
              "3    十四\n",
              "4    七層\n",
              "5    十層\n",
              "Name: 總樓層數, dtype: object"
            ]
          },
          "metadata": {
            "tags": []
          },
          "execution_count": 7
        }
      ]
    },
    {
      "cell_type": "markdown",
      "metadata": {
        "id": "wT6kMmkdaFNl"
      },
      "source": [
        "阿拉伯數字轉換 下方是轉換的公式"
      ]
    },
    {
      "cell_type": "code",
      "metadata": {
        "id": "wpDWBZawaFNn"
      },
      "source": [
        "def trans(s):\n",
        "    digit = {'一': 1, '二': 2, '三': 3, '四': 4, '五': 5, '六': 6, '七': 7, '八': 8, '九': 9}\n",
        "    num = 0\n",
        "    if type(s) == str:\n",
        "        idx_b, idx_s =  s.find('百'), s.find('十')\n",
        "        \n",
        "        if idx_b != -1:\n",
        "            num += digit[s[idx_b - 1:idx_b]] * 100\n",
        "        if idx_s != -1:\n",
        "            # 當判斷10 忽略1\n",
        "            num += digit.get(s[idx_s - 1:idx_s], 1) * 10\n",
        "        if s[-1] in digit:\n",
        "            num += digit[s[-1]]\n",
        "\n",
        "        return num       "
      ],
      "execution_count": 8,
      "outputs": []
    },
    {
      "cell_type": "markdown",
      "metadata": {
        "id": "38_Nr_BmaFNu"
      },
      "source": [
        "資料轉換過程"
      ]
    },
    {
      "cell_type": "code",
      "metadata": {
        "id": "VVixUMMmaFNv"
      },
      "source": [
        "#去除'層'字\n",
        "df_all['總樓層數'] = df_all['總樓層數'].str.replace(\"層\",\"\")\n",
        "#套入國字轉數字fuc apply\n",
        "df_all['總樓層數'] = df_all['總樓層數'].apply(trans)"
      ],
      "execution_count": 9,
      "outputs": []
    },
    {
      "cell_type": "code",
      "metadata": {
        "id": "hZb6nQ60aFN3",
        "outputId": "a99f1bfe-d07c-4e32-d8ee-b4855c75bd90",
        "colab": {
          "base_uri": "https://localhost:8080/",
          "height": 119
        }
      },
      "source": [
        "condition_1 = df_all['主要用途']=='住家用'\n",
        "condition_1.head()"
      ],
      "execution_count": 10,
      "outputs": [
        {
          "output_type": "execute_result",
          "data": {
            "text/plain": [
              "1    False\n",
              "2     True\n",
              "3     True\n",
              "4     True\n",
              "5     True\n",
              "Name: 主要用途, dtype: bool"
            ]
          },
          "metadata": {
            "tags": []
          },
          "execution_count": 10
        }
      ]
    },
    {
      "cell_type": "code",
      "metadata": {
        "id": "jhRr2sucaFN-",
        "outputId": "034384fe-d046-4392-9b93-6c3e701bcea3",
        "colab": {
          "base_uri": "https://localhost:8080/",
          "height": 119
        }
      },
      "source": [
        "condition_2 = df_all['建物型態'].str.contains('住宅大樓')\n",
        "condition_2.head()"
      ],
      "execution_count": 11,
      "outputs": [
        {
          "output_type": "execute_result",
          "data": {
            "text/plain": [
              "1    False\n",
              "2    False\n",
              "3     True\n",
              "4    False\n",
              "5    False\n",
              "Name: 建物型態, dtype: bool"
            ]
          },
          "metadata": {
            "tags": []
          },
          "execution_count": 11
        }
      ]
    },
    {
      "cell_type": "code",
      "metadata": {
        "id": "n_HeQti2aFOJ",
        "outputId": "77bba778-2116-4bd7-a1c0-29f9f671e713",
        "colab": {
          "base_uri": "https://localhost:8080/",
          "height": 221
        }
      },
      "source": [
        "condition_3 = df_all['總樓層數']>=13\n",
        "condition_3"
      ],
      "execution_count": 12,
      "outputs": [
        {
          "output_type": "execute_result",
          "data": {
            "text/plain": [
              "1       False\n",
              "2       False\n",
              "3        True\n",
              "4       False\n",
              "5       False\n",
              "        ...  \n",
              "1138    False\n",
              "1139    False\n",
              "1140    False\n",
              "1141    False\n",
              "1142    False\n",
              "Name: 總樓層數, Length: 5173, dtype: bool"
            ]
          },
          "metadata": {
            "tags": []
          },
          "execution_count": 12
        }
      ]
    },
    {
      "cell_type": "markdown",
      "metadata": {
        "id": "poiE3LOlaFOQ"
      },
      "source": [
        "filter_condition"
      ]
    },
    {
      "cell_type": "code",
      "metadata": {
        "id": "cuXDKGQTaFOR"
      },
      "source": [
        "filter_a = df_all[(condition_1 & condition_2 & condition_3)]"
      ],
      "execution_count": 13,
      "outputs": []
    },
    {
      "cell_type": "markdown",
      "metadata": {
        "id": "oE1v5iVJaFOX"
      },
      "source": [
        "data_sort"
      ]
    },
    {
      "cell_type": "code",
      "metadata": {
        "id": "6lmZdFB2aFOZ"
      },
      "source": [
        "filter_a.to_csv('filter_a.csv',encoding ='UTF-8')"
      ],
      "execution_count": 14,
      "outputs": []
    },
    {
      "cell_type": "markdown",
      "metadata": {
        "id": "2qDxRQ58aFOg"
      },
      "source": [
        "總件數"
      ]
    },
    {
      "cell_type": "code",
      "metadata": {
        "id": "1ipNEInyaFOi",
        "outputId": "bb83c8d7-2324-4bff-cbe2-e79f25db3527",
        "colab": {
          "base_uri": "https://localhost:8080/",
          "height": 34
        }
      },
      "source": [
        "total_monut = len(df_all)\n",
        "total_monut"
      ],
      "execution_count": 15,
      "outputs": [
        {
          "output_type": "execute_result",
          "data": {
            "text/plain": [
              "5173"
            ]
          },
          "metadata": {
            "tags": []
          },
          "execution_count": 15
        }
      ]
    },
    {
      "cell_type": "markdown",
      "metadata": {
        "id": "DdDnzumVaFOq"
      },
      "source": [
        "#總車位數\n",
        "交易筆棟數格式為：土地1建物1車位2，從'車位'一詞分割出車位數，再進行加總"
      ]
    },
    {
      "cell_type": "code",
      "metadata": {
        "id": "-93HeIgKaFOs",
        "outputId": "684dd001-6bb1-4bb1-b6be-5024338f9643",
        "colab": {
          "base_uri": "https://localhost:8080/",
          "height": 34
        }
      },
      "source": [
        "total_berth_mount = df_all['交易筆棟數'].str.split('車位',expand=True)[1].astype('int64').sum()\n",
        "total_berth_mount"
      ],
      "execution_count": 16,
      "outputs": [
        {
          "output_type": "execute_result",
          "data": {
            "text/plain": [
              "2485"
            ]
          },
          "metadata": {
            "tags": []
          },
          "execution_count": 16
        }
      ]
    },
    {
      "cell_type": "code",
      "metadata": {
        "id": "rowLsfdCaFOz"
      },
      "source": [
        "#平均總價元\n"
      ],
      "execution_count": null,
      "outputs": []
    },
    {
      "cell_type": "code",
      "metadata": {
        "id": "EUr3b88iaFO5",
        "outputId": "2ae420b1-3ae6-4e76-9d65-9d999dae1d7e",
        "colab": {
          "base_uri": "https://localhost:8080/",
          "height": 34
        }
      },
      "source": [
        "avg_price = df_all['總價元'].astype('int64').mean()\n",
        "avg_price"
      ],
      "execution_count": 18,
      "outputs": [
        {
          "output_type": "execute_result",
          "data": {
            "text/plain": [
              "15264496.25227141"
            ]
          },
          "metadata": {
            "tags": []
          },
          "execution_count": 18
        }
      ]
    },
    {
      "cell_type": "markdown",
      "metadata": {
        "id": "rCv8IrcLaFPB"
      },
      "source": [
        "平均車位總價元"
      ]
    },
    {
      "cell_type": "code",
      "metadata": {
        "id": "nI05C39caFPC",
        "outputId": "01bd8b3e-a79c-4bee-cd54-ebe32a61bd80",
        "colab": {
          "base_uri": "https://localhost:8080/",
          "height": 34
        }
      },
      "source": [
        "avg_berth_price = df_all['車位總價元'].astype('int64').mean()\n",
        "avg_berth_price"
      ],
      "execution_count": 19,
      "outputs": [
        {
          "output_type": "execute_result",
          "data": {
            "text/plain": [
              "417462.9880146917"
            ]
          },
          "metadata": {
            "tags": []
          },
          "execution_count": 19
        }
      ]
    },
    {
      "cell_type": "markdown",
      "metadata": {
        "id": "ghAheCPeaFPM"
      },
      "source": [
        "diction"
      ]
    },
    {
      "cell_type": "code",
      "metadata": {
        "id": "cIhjc1qLaFPN",
        "outputId": "4d51b092-f859-4c09-f98e-97787f01c3a4",
        "colab": {
          "base_uri": "https://localhost:8080/",
          "height": 85
        }
      },
      "source": [
        "info_dict ={\n",
        "    '總件數':total_monut,\n",
        "    '總車位數':total_berth_mount,\n",
        "    '平均總價元':avg_price,\n",
        "    '平均車位總價元':avg_berth_price\n",
        "}\n",
        "info_dict"
      ],
      "execution_count": 22,
      "outputs": [
        {
          "output_type": "execute_result",
          "data": {
            "text/plain": [
              "{'平均總價元': 15264496.25227141,\n",
              " '平均車位總價元': 417462.9880146917,\n",
              " '總件數': 5173,\n",
              " '總車位數': 2485}"
            ]
          },
          "metadata": {
            "tags": []
          },
          "execution_count": 22
        }
      ]
    },
    {
      "cell_type": "markdown",
      "metadata": {
        "id": "J1VikwYfaFPV"
      },
      "source": [
        "Data Sort"
      ]
    },
    {
      "cell_type": "code",
      "metadata": {
        "id": "XnkixcVVaFPX"
      },
      "source": [
        "pd.Series(info_dict).to_csv('filter_b.csv',encoding ='UTF-8')"
      ],
      "execution_count": null,
      "outputs": []
    }
  ]
}