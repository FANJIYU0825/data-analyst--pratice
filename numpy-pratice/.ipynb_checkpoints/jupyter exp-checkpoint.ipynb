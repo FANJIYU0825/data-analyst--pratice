{
 "cells": [
  {
   "cell_type": "code",
   "execution_count": 5,
   "metadata": {},
   "outputs": [],
   "source": [
    "import os \n",
    "import pandas as pd\n",
    "import numpy as np"
   ]
  },
  {
   "cell_type": "markdown",
   "metadata": {},
   "source": [
    " Merge data from each month into one CSV"
   ]
  },
  {
   "cell_type": "markdown",
   "metadata": {},
   "source": [
    "merge data from each city"
   ]
  },
  {
   "cell_type": "code",
   "execution_count": 16,
   "metadata": {},
   "outputs": [],
   "source": [
    "df_a = pd.read_csv('./data/a_lvr_land_a.csv',encoding ='utf-8')\n",
    "df_a = df_a.drop([0,0])\n",
    "df_b = pd.read_csv('./data/b_lvr_land_a.csv',encoding ='utf-8')\n",
    "df_b = df_b.drop([0,0])\n",
    "df_e = pd.read_csv('./data/e_lvr_land_a.csv',encoding ='utf-8')\n",
    "df_e = df_e.drop([0,0])\n",
    "df_f = pd.read_csv('./data/f_lvr_land_a.csv',encoding ='utf-8')\n",
    "df_f = df_f.drop([0,0])\n",
    "df_h = pd.read_csv('./data/h_lvr_land_a.csv',encoding ='utf-8')\n",
    "df_h = df_h.drop([0,0])"
   ]
  },
  {
   "cell_type": "code",
   "execution_count": 25,
   "metadata": {},
   "outputs": [
    {
     "data": {
      "text/html": [
       "<div>\n",
       "<style scoped>\n",
       "    .dataframe tbody tr th:only-of-type {\n",
       "        vertical-align: middle;\n",
       "    }\n",
       "\n",
       "    .dataframe tbody tr th {\n",
       "        vertical-align: top;\n",
       "    }\n",
       "\n",
       "    .dataframe thead th {\n",
       "        text-align: right;\n",
       "    }\n",
       "</style>\n",
       "<table border=\"1\" class=\"dataframe\">\n",
       "  <thead>\n",
       "    <tr style=\"text-align: right;\">\n",
       "      <th></th>\n",
       "      <th>鄉鎮市區</th>\n",
       "      <th>交易標的</th>\n",
       "      <th>土地區段位置建物區段門牌</th>\n",
       "      <th>土地移轉總面積平方公尺</th>\n",
       "      <th>都市土地使用分區</th>\n",
       "      <th>非都市土地使用分區</th>\n",
       "      <th>非都市土地使用編定</th>\n",
       "      <th>交易年月日</th>\n",
       "      <th>交易筆棟數</th>\n",
       "      <th>移轉層次</th>\n",
       "      <th>...</th>\n",
       "      <th>建物現況格局-衛</th>\n",
       "      <th>建物現況格局-隔間</th>\n",
       "      <th>有無管理組織</th>\n",
       "      <th>總價元</th>\n",
       "      <th>單價元平方公尺</th>\n",
       "      <th>車位類別</th>\n",
       "      <th>車位移轉總面積平方公尺</th>\n",
       "      <th>車位總價元</th>\n",
       "      <th>備註</th>\n",
       "      <th>編號</th>\n",
       "    </tr>\n",
       "  </thead>\n",
       "  <tbody>\n",
       "    <tr>\n",
       "      <td>1</td>\n",
       "      <td>中正區</td>\n",
       "      <td>房地(土地+建物)</td>\n",
       "      <td>臺北市中正區汀州路一段125巷1~30號</td>\n",
       "      <td>28.03</td>\n",
       "      <td>住</td>\n",
       "      <td>NaN</td>\n",
       "      <td>NaN</td>\n",
       "      <td>1081219</td>\n",
       "      <td>土地2建物1車位0</td>\n",
       "      <td>三層</td>\n",
       "      <td>...</td>\n",
       "      <td>2</td>\n",
       "      <td>有</td>\n",
       "      <td>無</td>\n",
       "      <td>9000000</td>\n",
       "      <td>113279</td>\n",
       "      <td>NaN</td>\n",
       "      <td>0.0</td>\n",
       "      <td>0</td>\n",
       "      <td>含增建或未登記建物。;</td>\n",
       "      <td>RPVNMLPKJHPFFAA97CA</td>\n",
       "    </tr>\n",
       "    <tr>\n",
       "      <td>2</td>\n",
       "      <td>文山區</td>\n",
       "      <td>房地(土地+建物)+車位</td>\n",
       "      <td>臺北市文山區萬壽路61~90號</td>\n",
       "      <td>33.37</td>\n",
       "      <td>住</td>\n",
       "      <td>NaN</td>\n",
       "      <td>NaN</td>\n",
       "      <td>1081224</td>\n",
       "      <td>土地1建物1車位1</td>\n",
       "      <td>二層</td>\n",
       "      <td>...</td>\n",
       "      <td>1</td>\n",
       "      <td>有</td>\n",
       "      <td>有</td>\n",
       "      <td>8330000</td>\n",
       "      <td>104635</td>\n",
       "      <td>坡道機械</td>\n",
       "      <td>0.0</td>\n",
       "      <td>0</td>\n",
       "      <td>陽台外推</td>\n",
       "      <td>RPWNMLPKJHPFFAA08CA</td>\n",
       "    </tr>\n",
       "    <tr>\n",
       "      <td>3</td>\n",
       "      <td>文山區</td>\n",
       "      <td>房地(土地+建物)+車位</td>\n",
       "      <td>臺北市文山區興順街80巷1~30號</td>\n",
       "      <td>22.52</td>\n",
       "      <td>住</td>\n",
       "      <td>NaN</td>\n",
       "      <td>NaN</td>\n",
       "      <td>1081222</td>\n",
       "      <td>土地1建物1車位2</td>\n",
       "      <td>四層</td>\n",
       "      <td>...</td>\n",
       "      <td>1</td>\n",
       "      <td>有</td>\n",
       "      <td>有</td>\n",
       "      <td>17960000</td>\n",
       "      <td>138484</td>\n",
       "      <td>坡道機械</td>\n",
       "      <td>42.48</td>\n",
       "      <td>0</td>\n",
       "      <td>NaN</td>\n",
       "      <td>RPSOMLPKJHPFFAA77CA</td>\n",
       "    </tr>\n",
       "    <tr>\n",
       "      <td>4</td>\n",
       "      <td>文山區</td>\n",
       "      <td>房地(土地+建物)+車位</td>\n",
       "      <td>臺北市文山區木新路三段45巷7弄1~30號</td>\n",
       "      <td>36.08</td>\n",
       "      <td>住</td>\n",
       "      <td>NaN</td>\n",
       "      <td>NaN</td>\n",
       "      <td>1081204</td>\n",
       "      <td>土地1建物1車位1</td>\n",
       "      <td>一層</td>\n",
       "      <td>...</td>\n",
       "      <td>2</td>\n",
       "      <td>有</td>\n",
       "      <td>有</td>\n",
       "      <td>30000000</td>\n",
       "      <td>108893</td>\n",
       "      <td>坡道平面</td>\n",
       "      <td>0.0</td>\n",
       "      <td>0</td>\n",
       "      <td>含增建或未登記建物。;</td>\n",
       "      <td>RPUOMLPKJHPFFAA97CA</td>\n",
       "    </tr>\n",
       "    <tr>\n",
       "      <td>5</td>\n",
       "      <td>文山區</td>\n",
       "      <td>房地(土地+建物)</td>\n",
       "      <td>臺北市文山區辛亥路七段84巷1~30號</td>\n",
       "      <td>19.17</td>\n",
       "      <td>住</td>\n",
       "      <td>NaN</td>\n",
       "      <td>NaN</td>\n",
       "      <td>1081212</td>\n",
       "      <td>土地2建物1車位0</td>\n",
       "      <td>二層</td>\n",
       "      <td>...</td>\n",
       "      <td>2</td>\n",
       "      <td>有</td>\n",
       "      <td>有</td>\n",
       "      <td>11800000</td>\n",
       "      <td>146803</td>\n",
       "      <td>NaN</td>\n",
       "      <td>0.0</td>\n",
       "      <td>0</td>\n",
       "      <td>含增建或未登記建物。;</td>\n",
       "      <td>RPXOMLNKJHPFFAA08CA</td>\n",
       "    </tr>\n",
       "  </tbody>\n",
       "</table>\n",
       "<p>5 rows × 28 columns</p>\n",
       "</div>"
      ],
      "text/plain": [
       "  鄉鎮市區          交易標的           土地區段位置建物區段門牌 土地移轉總面積平方公尺 都市土地使用分區 非都市土地使用分區  \\\n",
       "1  中正區     房地(土地+建物)   臺北市中正區汀州路一段125巷1~30號       28.03        住       NaN   \n",
       "2  文山區  房地(土地+建物)+車位        臺北市文山區萬壽路61~90號       33.37        住       NaN   \n",
       "3  文山區  房地(土地+建物)+車位      臺北市文山區興順街80巷1~30號       22.52        住       NaN   \n",
       "4  文山區  房地(土地+建物)+車位  臺北市文山區木新路三段45巷7弄1~30號       36.08        住       NaN   \n",
       "5  文山區     房地(土地+建物)    臺北市文山區辛亥路七段84巷1~30號       19.17        住       NaN   \n",
       "\n",
       "  非都市土地使用編定    交易年月日      交易筆棟數 移轉層次  ... 建物現況格局-衛 建物現況格局-隔間 有無管理組織       總價元  \\\n",
       "1       NaN  1081219  土地2建物1車位0   三層  ...        2         有      無   9000000   \n",
       "2       NaN  1081224  土地1建物1車位1   二層  ...        1         有      有   8330000   \n",
       "3       NaN  1081222  土地1建物1車位2   四層  ...        1         有      有  17960000   \n",
       "4       NaN  1081204  土地1建物1車位1   一層  ...        2         有      有  30000000   \n",
       "5       NaN  1081212  土地2建物1車位0   二層  ...        2         有      有  11800000   \n",
       "\n",
       "  單價元平方公尺  車位類別 車位移轉總面積平方公尺 車位總價元           備註                   編號  \n",
       "1  113279   NaN         0.0     0  含增建或未登記建物。;  RPVNMLPKJHPFFAA97CA  \n",
       "2  104635  坡道機械         0.0     0         陽台外推  RPWNMLPKJHPFFAA08CA  \n",
       "3  138484  坡道機械       42.48     0          NaN  RPSOMLPKJHPFFAA77CA  \n",
       "4  108893  坡道平面         0.0     0  含增建或未登記建物。;  RPUOMLPKJHPFFAA97CA  \n",
       "5  146803   NaN         0.0     0  含增建或未登記建物。;  RPXOMLNKJHPFFAA08CA  \n",
       "\n",
       "[5 rows x 28 columns]"
      ]
     },
     "execution_count": 25,
     "metadata": {},
     "output_type": "execute_result"
    }
   ],
   "source": [
    "df_all = pd.concat([df_a,df_b,df_e,df_f,df_h],axis = 0)\n",
    "df_all.head()"
   ]
  },
  {
   "cell_type": "markdown",
   "metadata": {},
   "source": [
    "總樓數因為是中文所以必須去轉換成為數值"
   ]
  },
  {
   "cell_type": "code",
   "execution_count": 35,
   "metadata": {},
   "outputs": [
    {
     "data": {
      "text/plain": [
       "1    四層\n",
       "2    五層\n",
       "3    十四\n",
       "4    七層\n",
       "5    十層\n",
       "Name: 總樓層數, dtype: object"
      ]
     },
     "execution_count": 35,
     "metadata": {},
     "output_type": "execute_result"
    }
   ],
   "source": [
    "floor = df_all['總樓層數'].str[0:2]\n",
    "floor.head()"
   ]
  },
  {
   "cell_type": "markdown",
   "metadata": {},
   "source": [
    "阿拉伯數字轉換 下方是轉換的公式"
   ]
  },
  {
   "cell_type": "code",
   "execution_count": 33,
   "metadata": {},
   "outputs": [],
   "source": [
    "def trans(s):\n",
    "    digit = {'一': 1, '二': 2, '三': 3, '四': 4, '五': 5, '六': 6, '七': 7, '八': 8, '九': 9}\n",
    "    num = 0\n",
    "    if type(s) == str:\n",
    "        idx_b, idx_s =  s.find('百'), s.find('十')\n",
    "        \n",
    "        if idx_b != -1:\n",
    "            num += digit[s[idx_b - 1:idx_b]] * 100\n",
    "        if idx_s != -1:\n",
    "            # 當判斷10 忽略1\n",
    "            num += digit.get(s[idx_s - 1:idx_s], 1) * 10\n",
    "        if s[-1] in digit:\n",
    "            num += digit[s[-1]]\n",
    "\n",
    "        return num       "
   ]
  },
  {
   "cell_type": "markdown",
   "metadata": {},
   "source": [
    "資料轉換過程"
   ]
  },
  {
   "cell_type": "code",
   "execution_count": 36,
   "metadata": {},
   "outputs": [],
   "source": [
    "#去除'層'字\n",
    "df_all['總樓層數'] = df_all['總樓層數'].str.replace(\"層\",\"\")\n",
    "#套入國字轉數字fuc apply\n",
    "df_all['總樓層數'] = df_all['總樓層數'].apply(trans)"
   ]
  },
  {
   "cell_type": "code",
   "execution_count": 45,
   "metadata": {},
   "outputs": [
    {
     "data": {
      "text/plain": [
       "1    False\n",
       "2     True\n",
       "3     True\n",
       "4     True\n",
       "5     True\n",
       "Name: 主要用途, dtype: bool"
      ]
     },
     "execution_count": 45,
     "metadata": {},
     "output_type": "execute_result"
    }
   ],
   "source": [
    "condition_1 = df_all['主要用途']=='住家用'\n",
    "condition_1.head()"
   ]
  },
  {
   "cell_type": "code",
   "execution_count": 57,
   "metadata": {},
   "outputs": [
    {
     "data": {
      "text/plain": [
       "1    False\n",
       "2    False\n",
       "3     True\n",
       "4    False\n",
       "5    False\n",
       "Name: 建物型態, dtype: bool"
      ]
     },
     "execution_count": 57,
     "metadata": {},
     "output_type": "execute_result"
    }
   ],
   "source": [
    "condition_2 = df_all['建物型態'].str.contains('住宅大樓')\n",
    "condition_2.head()"
   ]
  },
  {
   "cell_type": "code",
   "execution_count": 56,
   "metadata": {},
   "outputs": [
    {
     "data": {
      "text/plain": [
       "1       False\n",
       "2       False\n",
       "3        True\n",
       "4       False\n",
       "5       False\n",
       "        ...  \n",
       "1138    False\n",
       "1139    False\n",
       "1140    False\n",
       "1141    False\n",
       "1142    False\n",
       "Name: 總樓層數, Length: 5173, dtype: bool"
      ]
     },
     "execution_count": 56,
     "metadata": {},
     "output_type": "execute_result"
    }
   ],
   "source": [
    "condition_3 = df_all['總樓層數']>=13\n",
    "condition_3"
   ]
  },
  {
   "cell_type": "markdown",
   "metadata": {},
   "source": [
    "filter_condition"
   ]
  },
  {
   "cell_type": "code",
   "execution_count": null,
   "metadata": {},
   "outputs": [],
   "source": [
    "filter_a = df_all[(condition_1 & condition_2 & condition_3)]"
   ]
  },
  {
   "cell_type": "markdown",
   "metadata": {},
   "source": [
    "data_sort"
   ]
  },
  {
   "cell_type": "code",
   "execution_count": null,
   "metadata": {},
   "outputs": [],
   "source": [
    "filter_a.to_csv('filter_a.csv',encoding ='UTF-8')"
   ]
  },
  {
   "cell_type": "markdown",
   "metadata": {},
   "source": [
    "總件數"
   ]
  },
  {
   "cell_type": "code",
   "execution_count": 53,
   "metadata": {},
   "outputs": [
    {
     "name": "stdout",
     "output_type": "stream",
     "text": [
      "5173\n"
     ]
    }
   ],
   "source": [
    "total_monut = len(df_all)\n",
    "total_monut"
   ]
  },
  {
   "cell_type": "markdown",
   "metadata": {},
   "source": [
    "#總車位數\n",
    "交易筆棟數格式為：土地1建物1車位2，從'車位'一詞分割出車位數，再進行加總"
   ]
  },
  {
   "cell_type": "code",
   "execution_count": 55,
   "metadata": {},
   "outputs": [
    {
     "data": {
      "text/plain": [
       "2485"
      ]
     },
     "execution_count": 55,
     "metadata": {},
     "output_type": "execute_result"
    }
   ],
   "source": [
    "total_berth_mount = df_all['交易筆棟數'].str.split('車位',expand=True)[1].astype('int64').sum()\n",
    "total_berth_mount"
   ]
  },
  {
   "cell_type": "code",
   "execution_count": null,
   "metadata": {},
   "outputs": [],
   "source": [
    "平均總價元"
   ]
  },
  {
   "cell_type": "code",
   "execution_count": 59,
   "metadata": {},
   "outputs": [
    {
     "data": {
      "text/plain": [
       "15264496.25227141"
      ]
     },
     "execution_count": 59,
     "metadata": {},
     "output_type": "execute_result"
    }
   ],
   "source": [
    "avg_price = df_all['總價元'].astype('int64').mean()\n",
    "avg_price"
   ]
  },
  {
   "cell_type": "markdown",
   "metadata": {},
   "source": [
    "平均車位總價元"
   ]
  },
  {
   "cell_type": "code",
   "execution_count": 61,
   "metadata": {},
   "outputs": [
    {
     "data": {
      "text/plain": [
       "417462.9880146917"
      ]
     },
     "execution_count": 61,
     "metadata": {},
     "output_type": "execute_result"
    }
   ],
   "source": [
    "avg_berth_price = df_all['車位總價元'].astype('int64').mean()\n",
    "avg_berth_price"
   ]
  },
  {
   "cell_type": "markdown",
   "metadata": {},
   "source": [
    "diction"
   ]
  },
  {
   "cell_type": "code",
   "execution_count": 62,
   "metadata": {},
   "outputs": [
    {
     "data": {
      "text/plain": [
       "{'總件數': 5173,\n",
       " '總車位數': 2485,\n",
       " '平均總價元': 15264496.25227141,\n",
       " '平均車位總價元': 417462.9880146917}"
      ]
     },
     "execution_count": 62,
     "metadata": {},
     "output_type": "execute_result"
    }
   ],
   "source": [
    "info_dict ={\n",
    "    '總件數':total_mount,\n",
    "    '總車位數':total_berth_mount,\n",
    "    '平均總價元':avg_price,\n",
    "    '平均車位總價元':avg_berth_price\n",
    "}\n",
    "info_dict"
   ]
  },
  {
   "cell_type": "markdown",
   "metadata": {},
   "source": [
    "Data Sort"
   ]
  },
  {
   "cell_type": "code",
   "execution_count": null,
   "metadata": {},
   "outputs": [],
   "source": [
    "pd.Series(info_dict).to_csv('filter_b.csv',encoding ='UTF-8')"
   ]
  }
 ],
 "metadata": {
  "kernelspec": {
   "display_name": "Python 3",
   "language": "python",
   "name": "python3"
  },
  "language_info": {
   "codemirror_mode": {
    "name": "ipython",
    "version": 3
   },
   "file_extension": ".py",
   "mimetype": "text/x-python",
   "name": "python",
   "nbconvert_exporter": "python",
   "pygments_lexer": "ipython3",
   "version": "3.7.4"
  }
 },
 "nbformat": 4,
 "nbformat_minor": 2
}
