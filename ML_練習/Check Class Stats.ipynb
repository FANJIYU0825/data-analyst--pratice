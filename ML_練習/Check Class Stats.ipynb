{
 "cells": [
  {
   "cell_type": "code",
   "execution_count": 3,
   "metadata": {},
   "outputs": [],
   "source": [
    "from src.util import ddb_util, LOGGER\n",
    "from tqdm import tqdm\n",
    "import logging\n",
    "LOGGER.setLevel(logging.CRITICAL)\n",
    "ddb = ddb_util.LambdaDDB(profile_name='cnprod')"
   ]
  },
  {
   "cell_type": "code",
   "execution_count": null,
   "metadata": {},
   "outputs": [],
   "source": [
    "classes = ddb.scan(table_name='classes')"
   ]
  },
  {
   "cell_type": "code",
   "execution_count": 4,
   "metadata": {},
   "outputs": [
    {
     "name": "stderr",
     "output_type": "stream",
     "text": [
      "Class:  48%|████▊     | 73/151 [00:59<01:19,  1.01s/it]"
     ]
    },
    {
     "name": "stdout",
     "output_type": "stream",
     "text": [
      "QEJGRZ\n",
      "24\n",
      "25\n",
      "--------\n"
     ]
    },
    {
     "name": "stderr",
     "output_type": "stream",
     "text": [
      "Class: 100%|██████████| 151/151 [01:55<00:00,  2.27it/s]\n"
     ]
    }
   ],
   "source": [
    "with tqdm(total=len(classes), desc='Class') as pbar:\n",
    "    for _class in classes:\n",
    "        students = ddb.query(\n",
    "            table_name='students',\n",
    "            condition='class_code = :cc',\n",
    "            attr_values={':cc': {'S': _class['code']}})\n",
    "        if len(students) != _class['stats']['num_students']:\n",
    "            print(_class['code'])\n",
    "            print(_class['stats']['num_students'])\n",
    "            print(len(students))\n",
    "            print('--------')\n",
    "        pbar.update()"
   ]
  },
  {
   "cell_type": "code",
   "execution_count": null,
   "metadata": {},
   "outputs": [],
   "source": []
  }
 ],
 "metadata": {
  "kernelspec": {
   "display_name": "dyn",
   "language": "python",
   "name": "dyn"
  },
  "language_info": {
   "codemirror_mode": {
    "name": "ipython",
    "version": 2
   },
   "file_extension": ".py",
   "mimetype": "text/x-python",
   "name": "python",
   "nbconvert_exporter": "python",
   "pygments_lexer": "ipython2",
   "version": "2.7.16"
  }
 },
 "nbformat": 4,
 "nbformat_minor": 2
}
