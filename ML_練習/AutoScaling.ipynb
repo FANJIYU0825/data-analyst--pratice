{
 "cells": [
  {
   "cell_type": "code",
   "execution_count": 1,
   "metadata": {},
   "outputs": [],
   "source": [
    "import boto3\n",
    "boto3.setup_default_session(profile_name='china')"
   ]
  },
  {
   "cell_type": "code",
   "execution_count": 5,
   "metadata": {},
   "outputs": [],
   "source": [
    "asc = boto3.client('application-autoscaling')"
   ]
  },
  {
   "cell_type": "code",
   "execution_count": 6,
   "metadata": {},
   "outputs": [],
   "source": [
    "targets = asc.describe_scalable_targets(\n",
    "            ServiceNamespace='dynamodb')['ScalableTargets']"
   ]
  },
  {
   "cell_type": "code",
   "execution_count": 20,
   "metadata": {},
   "outputs": [
    {
     "data": {
      "text/plain": [
       "[{u'CreationTime': datetime.datetime(2018, 10, 31, 10, 10, 24, 406000, tzinfo=tzlocal()),\n",
       "  u'MaxCapacity': 10,\n",
       "  u'MinCapacity': 2,\n",
       "  u'ResourceId': u'table/classes/index/code-index',\n",
       "  u'RoleARN': u'arn:aws-cn:iam::595590239817:role/aws-service-role/dynamodb.application-autoscaling.amazonaws.com/AWSServiceRoleForApplicationAutoScaling_DynamoDBTable',\n",
       "  u'ScalableDimension': u'dynamodb:index:ReadCapacityUnits',\n",
       "  u'ServiceNamespace': u'dynamodb'},\n",
       " {u'CreationTime': datetime.datetime(2019, 2, 1, 23, 59, 9, 756000, tzinfo=tzlocal()),\n",
       "  u'MaxCapacity': 10,\n",
       "  u'MinCapacity': 2,\n",
       "  u'ResourceId': u'table/classes/index/school-name-index',\n",
       "  u'RoleARN': u'arn:aws-cn:iam::595590239817:role/aws-service-role/dynamodb.application-autoscaling.amazonaws.com/AWSServiceRoleForApplicationAutoScaling_DynamoDBTable',\n",
       "  u'ScalableDimension': u'dynamodb:index:ReadCapacityUnits',\n",
       "  u'ServiceNamespace': u'dynamodb'},\n",
       " {u'CreationTime': datetime.datetime(2018, 10, 31, 10, 10, 23, 604000, tzinfo=tzlocal()),\n",
       "  u'MaxCapacity': 10,\n",
       "  u'MinCapacity': 2,\n",
       "  u'ResourceId': u'table/classes',\n",
       "  u'RoleARN': u'arn:aws-cn:iam::595590239817:role/aws-service-role/dynamodb.application-autoscaling.amazonaws.com/AWSServiceRoleForApplicationAutoScaling_DynamoDBTable',\n",
       "  u'ScalableDimension': u'dynamodb:table:ReadCapacityUnits',\n",
       "  u'ServiceNamespace': u'dynamodb'}]"
      ]
     },
     "execution_count": 20,
     "metadata": {},
     "output_type": "execute_result"
    }
   ],
   "source": [
    "[t for t in targets if 'classes' in t['ResourceId']]"
   ]
  },
  {
   "cell_type": "code",
   "execution_count": 22,
   "metadata": {},
   "outputs": [],
   "source": [
    "r = asc.register_scalable_target(\n",
    "    ServiceNamespace='dynamodb',\n",
    "    ResourceId='table/user-accounts',\n",
    "    ScalableDimension='dynamodb:table:ReadCapacityUnits',\n",
    "    MinCapacity=2,\n",
    "    MaxCapacity=10)"
   ]
  },
  {
   "cell_type": "code",
   "execution_count": 26,
   "metadata": {},
   "outputs": [],
   "source": [
    "pp = asc.describe_scaling_policies(ServiceNamespace='dynamodb')['ScalingPolicies']"
   ]
  },
  {
   "cell_type": "code",
   "execution_count": 32,
   "metadata": {},
   "outputs": [
    {
     "data": {
      "text/plain": [
       "[u'table/shared-locks',\n",
       " u'table/activity-history',\n",
       " u'table/hi-scores',\n",
       " u'table/student-assignments',\n",
       " u'table/experience',\n",
       " u'table/student-assignments',\n",
       " u'table/experience/index/usr-date-index',\n",
       " u'table/activity-history',\n",
       " u'table/classes',\n",
       " u'table/hi-scores',\n",
       " u'table/activities-completed',\n",
       " u'table/stats-yyyymmdd',\n",
       " u'table/shared-locks',\n",
       " u'table/hourly-stats',\n",
       " u'table/classes/index/code-index',\n",
       " u'table/students/index/schoolName-index',\n",
       " u'table/classes/index/school-name-index',\n",
       " u'table/activities-completed',\n",
       " u'table/hourly-stats',\n",
       " u'table/stats-yyyymmdd']"
      ]
     },
     "execution_count": 32,
     "metadata": {},
     "output_type": "execute_result"
    }
   ],
   "source": [
    "[p['ResourceId'] for p in pp]"
   ]
  },
  {
   "cell_type": "code",
   "execution_count": null,
   "metadata": {},
   "outputs": [],
   "source": []
  }
 ],
 "metadata": {
  "kernelspec": {
   "display_name": "dyn",
   "language": "python",
   "name": "dyn"
  },
  "language_info": {
   "codemirror_mode": {
    "name": "ipython",
    "version": 2
   },
   "file_extension": ".py",
   "mimetype": "text/x-python",
   "name": "python",
   "nbconvert_exporter": "python",
   "pygments_lexer": "ipython2",
   "version": "2.7.15"
  }
 },
 "nbformat": 4,
 "nbformat_minor": 2
}
