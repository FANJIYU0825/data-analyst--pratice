{
  "nbformat": 4,
  "nbformat_minor": 0,
  "metadata": {
    "colab": {
      "name": "clean",
      "provenance": [],
      "collapsed_sections": [],
      "authorship_tag": "ABX9TyOaGi8ZAH7uzqaAYq16iv/n"
    },
    "kernelspec": {
      "name": "python3",
      "display_name": "Python 3"
    }
  },
  "cells": [
    {
      "cell_type": "code",
      "metadata": {
        "id": "CopKl6qrcvlB",
        "colab_type": "code",
        "colab": {}
      },
      "source": [
        "#爬取大陸國家假統計肺炎網站(扣除台灣/香港/澳門)\n",
        "import pandas as pd\n",
        "from bs4 import  BeautifulSoup\n",
        "import requests as re\n",
        "url = 'http://ncov.dxy.cn/ncovh5/view/pneumonia'\n",
        "response = re.get(url) # text 屬性就是 html 檔案\n",
        "response.encoding = 'utf-8'\n",
        "soup = BeautifulSoup(response.text, \"lxml\") # 指定 lxml 作為解析器\n",
        "kk = soup.find(id=\"getAreaStat\")\n",
        "kks = kk.text\n",
        "kiki = kks.replace('}catch(e){}','') #replace 多餘的文字\n",
        "karen = kiki.replace('try { window.getAreaStat = ','')#replace 多於文字\n",
        "#karen 是一個字串(str) 把字串轉化(list) y\n",
        " import json\n",
        "y = json.loads(karen)\n",
        "js = []\n",
        "provinceName = []\n",
        "for yams in y:\n",
        "    if yams['provinceName'] !='香港':\n",
        "      if yams['provinceName'] !='台湾':\n",
        "        if yams['provinceName'] !='澳门':\n",
        "          name = yams['provinceShortName']\n",
        "          data = yams['statisticsData']\n",
        "          provinceName.append(name)\n",
        "          js.append(data)"
      ],
      "execution_count": 0,
      "outputs": []
    },
    {
      "cell_type": "code",
      "metadata": {
        "id": "JO0DLDSTGEAc",
        "colab_type": "code",
        "colab": {}
      },
      "source": [
        "info_dict={'省':provinceName,'資料':js}\n",
        "\n",
        "df_info = pd.Series(info_dict)\n",
        "prname = df_info.省\n",
        "url_JS=df_info.資料 "
      ],
      "execution_count": 0,
      "outputs": []
    },
    {
      "cell_type": "code",
      "metadata": {
        "colab_type": "code",
        "id": "YbC6mrgWUNip",
        "colab": {}
      },
      "source": [
        "import requests as re\n",
        "from bs4 import BeautifulSoup\n",
        "import pandas as pd\n",
        "import numpy as np \n",
        "\n",
        "a =0\n",
        "for url_J in url_JS:\n",
        "  url_J\n",
        "  df = pd.read_json(url_J)\n",
        "  df = df.data\n",
        "  def coronavirus_Date():\n",
        "    aa_LS = []\n",
        "    for a in range (len(df)):\n",
        "      df0 = df[a]['dateId']\n",
        "      aa_LS.append(df0)\n",
        "    return aa_LS\n",
        "  def coronavirus_confirm():\n",
        "    aa_LS = []\n",
        "    for a in range (len(df)):\n",
        "      df0 = df[a]['confirmedCount']\n",
        "      aa_LS.append(df0)\n",
        "    return aa_LS\n",
        "  def coronavirus_cure():\n",
        "    aa_LS = []\n",
        "    for a in range (len(df)):\n",
        "      df0 = df[a]['curedCount']\n",
        "      aa_LS.append(df0)\n",
        "    return aa_LS\n",
        "  def coronavirus_dead():\n",
        "    aa_LS = []\n",
        "    for a in range (len(df)):\n",
        "      df0 = df[a]['deadCount']\n",
        "      aa_LS.append(df0)\n",
        "    return aa_LS\n",
        "  info_dic={'Date':coronavirus_Date(),\n",
        "          'Confirm':coronavirus_confirm(),\n",
        "          'Cure':coronavirus_cure(),\n",
        "          'Dead':coronavirus_dead()}\n",
        "  df_all = pd.DataFrame(info_dic)\n",
        "  df_all.to_csv(f'data{prname[a]}.csv')\n",
        "  from google.colab import files\n",
        "  files.download(f\"data{prname[a]}.csv\")\n",
        "  a+=1"
      ],
      "execution_count": 0,
      "outputs": []
    }
  ]
}