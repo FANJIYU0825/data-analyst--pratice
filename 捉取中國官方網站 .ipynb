{
  "nbformat": 4,
  "nbformat_minor": 0,
  "metadata": {
    "colab": {
      "name": "cola 練習 給倫哥",
      "provenance": [],
      "collapsed_sections": [
        "8tlKkaQchKPg",
        "Ruhp0SmwhVuZ",
        "Dmz-MTGZiGUb"
      ],
      "mount_file_id": "1BFznV3JuDSwEXNuRN6UZnptT5eT_RPEs",
      "authorship_tag": "ABX9TyNzC3yY9U8KAv86aOVM8Heo",
      "include_colab_link": true
    },
    "kernelspec": {
      "name": "python3",
      "display_name": "Python 3"
    },
    "widgets": {
      "application/vnd.jupyter.widget-state+json": {
        "35795b25ca3340c8a0c7fcb842f8343f": {
          "model_module": "@jupyter-widgets/controls",
          "model_name": "HBoxModel",
          "state": {
            "_view_name": "HBoxView",
            "_dom_classes": [],
            "_model_name": "HBoxModel",
            "_view_module": "@jupyter-widgets/controls",
            "_model_module_version": "1.5.0",
            "_view_count": null,
            "_view_module_version": "1.5.0",
            "box_style": "",
            "layout": "IPY_MODEL_c9aa7c2bd0544bb698ac804e19759f42",
            "_model_module": "@jupyter-widgets/controls",
            "children": [
              "IPY_MODEL_516e7cd23c264d5cbaf2d6fca1231fc8",
              "IPY_MODEL_033de4ebdb7a4361b40fe1c6f10de271"
            ]
          }
        },
        "c9aa7c2bd0544bb698ac804e19759f42": {
          "model_module": "@jupyter-widgets/base",
          "model_name": "LayoutModel",
          "state": {
            "_view_name": "LayoutView",
            "grid_template_rows": null,
            "right": null,
            "justify_content": null,
            "_view_module": "@jupyter-widgets/base",
            "overflow": null,
            "_model_module_version": "1.2.0",
            "_view_count": null,
            "flex_flow": null,
            "width": null,
            "min_width": null,
            "border": null,
            "align_items": null,
            "bottom": null,
            "_model_module": "@jupyter-widgets/base",
            "top": null,
            "grid_column": null,
            "overflow_y": null,
            "overflow_x": null,
            "grid_auto_flow": null,
            "grid_area": null,
            "grid_template_columns": null,
            "flex": null,
            "_model_name": "LayoutModel",
            "justify_items": null,
            "grid_row": null,
            "max_height": null,
            "align_content": null,
            "visibility": null,
            "align_self": null,
            "height": null,
            "min_height": null,
            "padding": null,
            "grid_auto_rows": null,
            "grid_gap": null,
            "max_width": null,
            "order": null,
            "_view_module_version": "1.2.0",
            "grid_template_areas": null,
            "object_position": null,
            "object_fit": null,
            "grid_auto_columns": null,
            "margin": null,
            "display": null,
            "left": null
          }
        },
        "516e7cd23c264d5cbaf2d6fca1231fc8": {
          "model_module": "@jupyter-widgets/controls",
          "model_name": "IntProgressModel",
          "state": {
            "_view_name": "ProgressView",
            "style": "IPY_MODEL_d4e82f0c97294cd1a984e58cefa89d77",
            "_dom_classes": [],
            "description": "100%",
            "_model_name": "IntProgressModel",
            "bar_style": "success",
            "max": 31,
            "_view_module": "@jupyter-widgets/controls",
            "_model_module_version": "1.5.0",
            "value": 31,
            "_view_count": null,
            "_view_module_version": "1.5.0",
            "orientation": "horizontal",
            "min": 0,
            "description_tooltip": null,
            "_model_module": "@jupyter-widgets/controls",
            "layout": "IPY_MODEL_f401230574494115b0916422d4292d6b"
          }
        },
        "033de4ebdb7a4361b40fe1c6f10de271": {
          "model_module": "@jupyter-widgets/controls",
          "model_name": "HTMLModel",
          "state": {
            "_view_name": "HTMLView",
            "style": "IPY_MODEL_fcea21f01a9d445f94878059fd201810",
            "_dom_classes": [],
            "description": "",
            "_model_name": "HTMLModel",
            "placeholder": "​",
            "_view_module": "@jupyter-widgets/controls",
            "_model_module_version": "1.5.0",
            "value": " 31/31 [26:51&lt;00:00, 51.97s/it]",
            "_view_count": null,
            "_view_module_version": "1.5.0",
            "description_tooltip": null,
            "_model_module": "@jupyter-widgets/controls",
            "layout": "IPY_MODEL_fbbe2e4963d340c4949bc251e01e0754"
          }
        },
        "d4e82f0c97294cd1a984e58cefa89d77": {
          "model_module": "@jupyter-widgets/controls",
          "model_name": "ProgressStyleModel",
          "state": {
            "_view_name": "StyleView",
            "_model_name": "ProgressStyleModel",
            "description_width": "initial",
            "_view_module": "@jupyter-widgets/base",
            "_model_module_version": "1.5.0",
            "_view_count": null,
            "_view_module_version": "1.2.0",
            "bar_color": null,
            "_model_module": "@jupyter-widgets/controls"
          }
        },
        "f401230574494115b0916422d4292d6b": {
          "model_module": "@jupyter-widgets/base",
          "model_name": "LayoutModel",
          "state": {
            "_view_name": "LayoutView",
            "grid_template_rows": null,
            "right": null,
            "justify_content": null,
            "_view_module": "@jupyter-widgets/base",
            "overflow": null,
            "_model_module_version": "1.2.0",
            "_view_count": null,
            "flex_flow": null,
            "width": null,
            "min_width": null,
            "border": null,
            "align_items": null,
            "bottom": null,
            "_model_module": "@jupyter-widgets/base",
            "top": null,
            "grid_column": null,
            "overflow_y": null,
            "overflow_x": null,
            "grid_auto_flow": null,
            "grid_area": null,
            "grid_template_columns": null,
            "flex": null,
            "_model_name": "LayoutModel",
            "justify_items": null,
            "grid_row": null,
            "max_height": null,
            "align_content": null,
            "visibility": null,
            "align_self": null,
            "height": null,
            "min_height": null,
            "padding": null,
            "grid_auto_rows": null,
            "grid_gap": null,
            "max_width": null,
            "order": null,
            "_view_module_version": "1.2.0",
            "grid_template_areas": null,
            "object_position": null,
            "object_fit": null,
            "grid_auto_columns": null,
            "margin": null,
            "display": null,
            "left": null
          }
        },
        "fcea21f01a9d445f94878059fd201810": {
          "model_module": "@jupyter-widgets/controls",
          "model_name": "DescriptionStyleModel",
          "state": {
            "_view_name": "StyleView",
            "_model_name": "DescriptionStyleModel",
            "description_width": "",
            "_view_module": "@jupyter-widgets/base",
            "_model_module_version": "1.5.0",
            "_view_count": null,
            "_view_module_version": "1.2.0",
            "_model_module": "@jupyter-widgets/controls"
          }
        },
        "fbbe2e4963d340c4949bc251e01e0754": {
          "model_module": "@jupyter-widgets/base",
          "model_name": "LayoutModel",
          "state": {
            "_view_name": "LayoutView",
            "grid_template_rows": null,
            "right": null,
            "justify_content": null,
            "_view_module": "@jupyter-widgets/base",
            "overflow": null,
            "_model_module_version": "1.2.0",
            "_view_count": null,
            "flex_flow": null,
            "width": null,
            "min_width": null,
            "border": null,
            "align_items": null,
            "bottom": null,
            "_model_module": "@jupyter-widgets/base",
            "top": null,
            "grid_column": null,
            "overflow_y": null,
            "overflow_x": null,
            "grid_auto_flow": null,
            "grid_area": null,
            "grid_template_columns": null,
            "flex": null,
            "_model_name": "LayoutModel",
            "justify_items": null,
            "grid_row": null,
            "max_height": null,
            "align_content": null,
            "visibility": null,
            "align_self": null,
            "height": null,
            "min_height": null,
            "padding": null,
            "grid_auto_rows": null,
            "grid_gap": null,
            "max_width": null,
            "order": null,
            "_view_module_version": "1.2.0",
            "grid_template_areas": null,
            "object_position": null,
            "object_fit": null,
            "grid_auto_columns": null,
            "margin": null,
            "display": null,
            "left": null
          }
        },
        "64f148128745409fab061b3183f87629": {
          "model_module": "@jupyter-widgets/controls",
          "model_name": "HBoxModel",
          "state": {
            "_view_name": "HBoxView",
            "_dom_classes": [],
            "_model_name": "HBoxModel",
            "_view_module": "@jupyter-widgets/controls",
            "_model_module_version": "1.5.0",
            "_view_count": null,
            "_view_module_version": "1.5.0",
            "box_style": "",
            "layout": "IPY_MODEL_bb64ebdf845540e6ba154362490aa053",
            "_model_module": "@jupyter-widgets/controls",
            "children": [
              "IPY_MODEL_93e3e058e31346869e7ec91ee5435155",
              "IPY_MODEL_54afda1489fe438491952d56c2d01e36"
            ]
          }
        },
        "bb64ebdf845540e6ba154362490aa053": {
          "model_module": "@jupyter-widgets/base",
          "model_name": "LayoutModel",
          "state": {
            "_view_name": "LayoutView",
            "grid_template_rows": null,
            "right": null,
            "justify_content": null,
            "_view_module": "@jupyter-widgets/base",
            "overflow": null,
            "_model_module_version": "1.2.0",
            "_view_count": null,
            "flex_flow": null,
            "width": null,
            "min_width": null,
            "border": null,
            "align_items": null,
            "bottom": null,
            "_model_module": "@jupyter-widgets/base",
            "top": null,
            "grid_column": null,
            "overflow_y": null,
            "overflow_x": null,
            "grid_auto_flow": null,
            "grid_area": null,
            "grid_template_columns": null,
            "flex": null,
            "_model_name": "LayoutModel",
            "justify_items": null,
            "grid_row": null,
            "max_height": null,
            "align_content": null,
            "visibility": null,
            "align_self": null,
            "height": null,
            "min_height": null,
            "padding": null,
            "grid_auto_rows": null,
            "grid_gap": null,
            "max_width": null,
            "order": null,
            "_view_module_version": "1.2.0",
            "grid_template_areas": null,
            "object_position": null,
            "object_fit": null,
            "grid_auto_columns": null,
            "margin": null,
            "display": null,
            "left": null
          }
        },
        "93e3e058e31346869e7ec91ee5435155": {
          "model_module": "@jupyter-widgets/controls",
          "model_name": "IntProgressModel",
          "state": {
            "_view_name": "ProgressView",
            "style": "IPY_MODEL_8e0335b1be1441dd8a35855df8288481",
            "_dom_classes": [],
            "description": "100%",
            "_model_name": "IntProgressModel",
            "bar_style": "success",
            "max": 31,
            "_view_module": "@jupyter-widgets/controls",
            "_model_module_version": "1.5.0",
            "value": 31,
            "_view_count": null,
            "_view_module_version": "1.5.0",
            "orientation": "horizontal",
            "min": 0,
            "description_tooltip": null,
            "_model_module": "@jupyter-widgets/controls",
            "layout": "IPY_MODEL_6b4f0e9eefc0400998df1d9676e4d3d8"
          }
        },
        "54afda1489fe438491952d56c2d01e36": {
          "model_module": "@jupyter-widgets/controls",
          "model_name": "HTMLModel",
          "state": {
            "_view_name": "HTMLView",
            "style": "IPY_MODEL_33bc3e008f6545c0bff9e34821dd3ab0",
            "_dom_classes": [],
            "description": "",
            "_model_name": "HTMLModel",
            "placeholder": "​",
            "_view_module": "@jupyter-widgets/controls",
            "_model_module_version": "1.5.0",
            "value": " 31/31 [04:40&lt;00:00,  9.06s/it]",
            "_view_count": null,
            "_view_module_version": "1.5.0",
            "description_tooltip": null,
            "_model_module": "@jupyter-widgets/controls",
            "layout": "IPY_MODEL_614a1cbb41774bd39d75f88ea1a65400"
          }
        },
        "8e0335b1be1441dd8a35855df8288481": {
          "model_module": "@jupyter-widgets/controls",
          "model_name": "ProgressStyleModel",
          "state": {
            "_view_name": "StyleView",
            "_model_name": "ProgressStyleModel",
            "description_width": "initial",
            "_view_module": "@jupyter-widgets/base",
            "_model_module_version": "1.5.0",
            "_view_count": null,
            "_view_module_version": "1.2.0",
            "bar_color": null,
            "_model_module": "@jupyter-widgets/controls"
          }
        },
        "6b4f0e9eefc0400998df1d9676e4d3d8": {
          "model_module": "@jupyter-widgets/base",
          "model_name": "LayoutModel",
          "state": {
            "_view_name": "LayoutView",
            "grid_template_rows": null,
            "right": null,
            "justify_content": null,
            "_view_module": "@jupyter-widgets/base",
            "overflow": null,
            "_model_module_version": "1.2.0",
            "_view_count": null,
            "flex_flow": null,
            "width": null,
            "min_width": null,
            "border": null,
            "align_items": null,
            "bottom": null,
            "_model_module": "@jupyter-widgets/base",
            "top": null,
            "grid_column": null,
            "overflow_y": null,
            "overflow_x": null,
            "grid_auto_flow": null,
            "grid_area": null,
            "grid_template_columns": null,
            "flex": null,
            "_model_name": "LayoutModel",
            "justify_items": null,
            "grid_row": null,
            "max_height": null,
            "align_content": null,
            "visibility": null,
            "align_self": null,
            "height": null,
            "min_height": null,
            "padding": null,
            "grid_auto_rows": null,
            "grid_gap": null,
            "max_width": null,
            "order": null,
            "_view_module_version": "1.2.0",
            "grid_template_areas": null,
            "object_position": null,
            "object_fit": null,
            "grid_auto_columns": null,
            "margin": null,
            "display": null,
            "left": null
          }
        },
        "33bc3e008f6545c0bff9e34821dd3ab0": {
          "model_module": "@jupyter-widgets/controls",
          "model_name": "DescriptionStyleModel",
          "state": {
            "_view_name": "StyleView",
            "_model_name": "DescriptionStyleModel",
            "description_width": "",
            "_view_module": "@jupyter-widgets/base",
            "_model_module_version": "1.5.0",
            "_view_count": null,
            "_view_module_version": "1.2.0",
            "_model_module": "@jupyter-widgets/controls"
          }
        },
        "614a1cbb41774bd39d75f88ea1a65400": {
          "model_module": "@jupyter-widgets/base",
          "model_name": "LayoutModel",
          "state": {
            "_view_name": "LayoutView",
            "grid_template_rows": null,
            "right": null,
            "justify_content": null,
            "_view_module": "@jupyter-widgets/base",
            "overflow": null,
            "_model_module_version": "1.2.0",
            "_view_count": null,
            "flex_flow": null,
            "width": null,
            "min_width": null,
            "border": null,
            "align_items": null,
            "bottom": null,
            "_model_module": "@jupyter-widgets/base",
            "top": null,
            "grid_column": null,
            "overflow_y": null,
            "overflow_x": null,
            "grid_auto_flow": null,
            "grid_area": null,
            "grid_template_columns": null,
            "flex": null,
            "_model_name": "LayoutModel",
            "justify_items": null,
            "grid_row": null,
            "max_height": null,
            "align_content": null,
            "visibility": null,
            "align_self": null,
            "height": null,
            "min_height": null,
            "padding": null,
            "grid_auto_rows": null,
            "grid_gap": null,
            "max_width": null,
            "order": null,
            "_view_module_version": "1.2.0",
            "grid_template_areas": null,
            "object_position": null,
            "object_fit": null,
            "grid_auto_columns": null,
            "margin": null,
            "display": null,
            "left": null
          }
        },
        "0bede44f87bc4a7f98b0ba1186adc46b": {
          "model_module": "@jupyter-widgets/controls",
          "model_name": "HBoxModel",
          "state": {
            "_view_name": "HBoxView",
            "_dom_classes": [],
            "_model_name": "HBoxModel",
            "_view_module": "@jupyter-widgets/controls",
            "_model_module_version": "1.5.0",
            "_view_count": null,
            "_view_module_version": "1.5.0",
            "box_style": "",
            "layout": "IPY_MODEL_08ba7fdf9007460da6bb58c1eab04106",
            "_model_module": "@jupyter-widgets/controls",
            "children": [
              "IPY_MODEL_cb12a3c5fa9644f1afa3c73a1c060a43",
              "IPY_MODEL_f85bff9cccd2494687dac9c8585ca9ab"
            ]
          }
        },
        "08ba7fdf9007460da6bb58c1eab04106": {
          "model_module": "@jupyter-widgets/base",
          "model_name": "LayoutModel",
          "state": {
            "_view_name": "LayoutView",
            "grid_template_rows": null,
            "right": null,
            "justify_content": null,
            "_view_module": "@jupyter-widgets/base",
            "overflow": null,
            "_model_module_version": "1.2.0",
            "_view_count": null,
            "flex_flow": null,
            "width": null,
            "min_width": null,
            "border": null,
            "align_items": null,
            "bottom": null,
            "_model_module": "@jupyter-widgets/base",
            "top": null,
            "grid_column": null,
            "overflow_y": null,
            "overflow_x": null,
            "grid_auto_flow": null,
            "grid_area": null,
            "grid_template_columns": null,
            "flex": null,
            "_model_name": "LayoutModel",
            "justify_items": null,
            "grid_row": null,
            "max_height": null,
            "align_content": null,
            "visibility": null,
            "align_self": null,
            "height": null,
            "min_height": null,
            "padding": null,
            "grid_auto_rows": null,
            "grid_gap": null,
            "max_width": null,
            "order": null,
            "_view_module_version": "1.2.0",
            "grid_template_areas": null,
            "object_position": null,
            "object_fit": null,
            "grid_auto_columns": null,
            "margin": null,
            "display": null,
            "left": null
          }
        },
        "cb12a3c5fa9644f1afa3c73a1c060a43": {
          "model_module": "@jupyter-widgets/controls",
          "model_name": "IntProgressModel",
          "state": {
            "_view_name": "ProgressView",
            "style": "IPY_MODEL_add72190c42b42648ba176bbc4b18098",
            "_dom_classes": [],
            "description": "",
            "_model_name": "IntProgressModel",
            "bar_style": "success",
            "max": 31,
            "_view_module": "@jupyter-widgets/controls",
            "_model_module_version": "1.5.0",
            "value": 31,
            "_view_count": null,
            "_view_module_version": "1.5.0",
            "orientation": "horizontal",
            "min": 0,
            "description_tooltip": null,
            "_model_module": "@jupyter-widgets/controls",
            "layout": "IPY_MODEL_963d95ae02444d869784cf9de48bfd7f"
          }
        },
        "f85bff9cccd2494687dac9c8585ca9ab": {
          "model_module": "@jupyter-widgets/controls",
          "model_name": "HTMLModel",
          "state": {
            "_view_name": "HTMLView",
            "style": "IPY_MODEL_d49594f242034f92a46307bea7744b57",
            "_dom_classes": [],
            "description": "",
            "_model_name": "HTMLModel",
            "placeholder": "​",
            "_view_module": "@jupyter-widgets/controls",
            "_model_module_version": "1.5.0",
            "value": " 2999/? [00:00&lt;00:00, 68368.91it/s]",
            "_view_count": null,
            "_view_module_version": "1.5.0",
            "description_tooltip": null,
            "_model_module": "@jupyter-widgets/controls",
            "layout": "IPY_MODEL_0184f83951d94eea92ebb47f5bfd6059"
          }
        },
        "add72190c42b42648ba176bbc4b18098": {
          "model_module": "@jupyter-widgets/controls",
          "model_name": "ProgressStyleModel",
          "state": {
            "_view_name": "StyleView",
            "_model_name": "ProgressStyleModel",
            "description_width": "initial",
            "_view_module": "@jupyter-widgets/base",
            "_model_module_version": "1.5.0",
            "_view_count": null,
            "_view_module_version": "1.2.0",
            "bar_color": null,
            "_model_module": "@jupyter-widgets/controls"
          }
        },
        "963d95ae02444d869784cf9de48bfd7f": {
          "model_module": "@jupyter-widgets/base",
          "model_name": "LayoutModel",
          "state": {
            "_view_name": "LayoutView",
            "grid_template_rows": null,
            "right": null,
            "justify_content": null,
            "_view_module": "@jupyter-widgets/base",
            "overflow": null,
            "_model_module_version": "1.2.0",
            "_view_count": null,
            "flex_flow": null,
            "width": null,
            "min_width": null,
            "border": null,
            "align_items": null,
            "bottom": null,
            "_model_module": "@jupyter-widgets/base",
            "top": null,
            "grid_column": null,
            "overflow_y": null,
            "overflow_x": null,
            "grid_auto_flow": null,
            "grid_area": null,
            "grid_template_columns": null,
            "flex": null,
            "_model_name": "LayoutModel",
            "justify_items": null,
            "grid_row": null,
            "max_height": null,
            "align_content": null,
            "visibility": null,
            "align_self": null,
            "height": null,
            "min_height": null,
            "padding": null,
            "grid_auto_rows": null,
            "grid_gap": null,
            "max_width": null,
            "order": null,
            "_view_module_version": "1.2.0",
            "grid_template_areas": null,
            "object_position": null,
            "object_fit": null,
            "grid_auto_columns": null,
            "margin": null,
            "display": null,
            "left": null
          }
        },
        "d49594f242034f92a46307bea7744b57": {
          "model_module": "@jupyter-widgets/controls",
          "model_name": "DescriptionStyleModel",
          "state": {
            "_view_name": "StyleView",
            "_model_name": "DescriptionStyleModel",
            "description_width": "",
            "_view_module": "@jupyter-widgets/base",
            "_model_module_version": "1.5.0",
            "_view_count": null,
            "_view_module_version": "1.2.0",
            "_model_module": "@jupyter-widgets/controls"
          }
        },
        "0184f83951d94eea92ebb47f5bfd6059": {
          "model_module": "@jupyter-widgets/base",
          "model_name": "LayoutModel",
          "state": {
            "_view_name": "LayoutView",
            "grid_template_rows": null,
            "right": null,
            "justify_content": null,
            "_view_module": "@jupyter-widgets/base",
            "overflow": null,
            "_model_module_version": "1.2.0",
            "_view_count": null,
            "flex_flow": null,
            "width": null,
            "min_width": null,
            "border": null,
            "align_items": null,
            "bottom": null,
            "_model_module": "@jupyter-widgets/base",
            "top": null,
            "grid_column": null,
            "overflow_y": null,
            "overflow_x": null,
            "grid_auto_flow": null,
            "grid_area": null,
            "grid_template_columns": null,
            "flex": null,
            "_model_name": "LayoutModel",
            "justify_items": null,
            "grid_row": null,
            "max_height": null,
            "align_content": null,
            "visibility": null,
            "align_self": null,
            "height": null,
            "min_height": null,
            "padding": null,
            "grid_auto_rows": null,
            "grid_gap": null,
            "max_width": null,
            "order": null,
            "_view_module_version": "1.2.0",
            "grid_template_areas": null,
            "object_position": null,
            "object_fit": null,
            "grid_auto_columns": null,
            "margin": null,
            "display": null,
            "left": null
          }
        },
        "8361bc90cb2b4d28b8b988bbc746956c": {
          "model_module": "@jupyter-widgets/controls",
          "model_name": "HBoxModel",
          "state": {
            "_view_name": "HBoxView",
            "_dom_classes": [],
            "_model_name": "HBoxModel",
            "_view_module": "@jupyter-widgets/controls",
            "_model_module_version": "1.5.0",
            "_view_count": null,
            "_view_module_version": "1.5.0",
            "box_style": "",
            "layout": "IPY_MODEL_31dbe03181684d5d8b09faa8dc427fca",
            "_model_module": "@jupyter-widgets/controls",
            "children": [
              "IPY_MODEL_c47069425e2a4651aa7b66083f0c672e",
              "IPY_MODEL_758b5c44841e482fb70b72f5dc391b8f"
            ]
          }
        },
        "31dbe03181684d5d8b09faa8dc427fca": {
          "model_module": "@jupyter-widgets/base",
          "model_name": "LayoutModel",
          "state": {
            "_view_name": "LayoutView",
            "grid_template_rows": null,
            "right": null,
            "justify_content": null,
            "_view_module": "@jupyter-widgets/base",
            "overflow": null,
            "_model_module_version": "1.2.0",
            "_view_count": null,
            "flex_flow": null,
            "width": null,
            "min_width": null,
            "border": null,
            "align_items": null,
            "bottom": null,
            "_model_module": "@jupyter-widgets/base",
            "top": null,
            "grid_column": null,
            "overflow_y": null,
            "overflow_x": null,
            "grid_auto_flow": null,
            "grid_area": null,
            "grid_template_columns": null,
            "flex": null,
            "_model_name": "LayoutModel",
            "justify_items": null,
            "grid_row": null,
            "max_height": null,
            "align_content": null,
            "visibility": null,
            "align_self": null,
            "height": null,
            "min_height": null,
            "padding": null,
            "grid_auto_rows": null,
            "grid_gap": null,
            "max_width": null,
            "order": null,
            "_view_module_version": "1.2.0",
            "grid_template_areas": null,
            "object_position": null,
            "object_fit": null,
            "grid_auto_columns": null,
            "margin": null,
            "display": null,
            "left": null
          }
        },
        "c47069425e2a4651aa7b66083f0c672e": {
          "model_module": "@jupyter-widgets/controls",
          "model_name": "IntProgressModel",
          "state": {
            "_view_name": "ProgressView",
            "style": "IPY_MODEL_4029cdaed3c04c7696cc459c891bcc52",
            "_dom_classes": [],
            "description": "",
            "_model_name": "IntProgressModel",
            "bar_style": "success",
            "max": 31,
            "_view_module": "@jupyter-widgets/controls",
            "_model_module_version": "1.5.0",
            "value": 31,
            "_view_count": null,
            "_view_module_version": "1.5.0",
            "orientation": "horizontal",
            "min": 0,
            "description_tooltip": null,
            "_model_module": "@jupyter-widgets/controls",
            "layout": "IPY_MODEL_690d61ab231b4c53932502aaf0c8629f"
          }
        },
        "758b5c44841e482fb70b72f5dc391b8f": {
          "model_module": "@jupyter-widgets/controls",
          "model_name": "HTMLModel",
          "state": {
            "_view_name": "HTMLView",
            "style": "IPY_MODEL_68aa98539edd4710b7122492e305d25f",
            "_dom_classes": [],
            "description": "",
            "_model_name": "HTMLModel",
            "placeholder": "​",
            "_view_module": "@jupyter-widgets/controls",
            "_model_module_version": "1.5.0",
            "value": " 2999/? [00:00&lt;00:00, 40277.16it/s]",
            "_view_count": null,
            "_view_module_version": "1.5.0",
            "description_tooltip": null,
            "_model_module": "@jupyter-widgets/controls",
            "layout": "IPY_MODEL_11870727006b45f6b36164ad788d5f9b"
          }
        },
        "4029cdaed3c04c7696cc459c891bcc52": {
          "model_module": "@jupyter-widgets/controls",
          "model_name": "ProgressStyleModel",
          "state": {
            "_view_name": "StyleView",
            "_model_name": "ProgressStyleModel",
            "description_width": "initial",
            "_view_module": "@jupyter-widgets/base",
            "_model_module_version": "1.5.0",
            "_view_count": null,
            "_view_module_version": "1.2.0",
            "bar_color": null,
            "_model_module": "@jupyter-widgets/controls"
          }
        },
        "690d61ab231b4c53932502aaf0c8629f": {
          "model_module": "@jupyter-widgets/base",
          "model_name": "LayoutModel",
          "state": {
            "_view_name": "LayoutView",
            "grid_template_rows": null,
            "right": null,
            "justify_content": null,
            "_view_module": "@jupyter-widgets/base",
            "overflow": null,
            "_model_module_version": "1.2.0",
            "_view_count": null,
            "flex_flow": null,
            "width": null,
            "min_width": null,
            "border": null,
            "align_items": null,
            "bottom": null,
            "_model_module": "@jupyter-widgets/base",
            "top": null,
            "grid_column": null,
            "overflow_y": null,
            "overflow_x": null,
            "grid_auto_flow": null,
            "grid_area": null,
            "grid_template_columns": null,
            "flex": null,
            "_model_name": "LayoutModel",
            "justify_items": null,
            "grid_row": null,
            "max_height": null,
            "align_content": null,
            "visibility": null,
            "align_self": null,
            "height": null,
            "min_height": null,
            "padding": null,
            "grid_auto_rows": null,
            "grid_gap": null,
            "max_width": null,
            "order": null,
            "_view_module_version": "1.2.0",
            "grid_template_areas": null,
            "object_position": null,
            "object_fit": null,
            "grid_auto_columns": null,
            "margin": null,
            "display": null,
            "left": null
          }
        },
        "68aa98539edd4710b7122492e305d25f": {
          "model_module": "@jupyter-widgets/controls",
          "model_name": "DescriptionStyleModel",
          "state": {
            "_view_name": "StyleView",
            "_model_name": "DescriptionStyleModel",
            "description_width": "",
            "_view_module": "@jupyter-widgets/base",
            "_model_module_version": "1.5.0",
            "_view_count": null,
            "_view_module_version": "1.2.0",
            "_model_module": "@jupyter-widgets/controls"
          }
        },
        "11870727006b45f6b36164ad788d5f9b": {
          "model_module": "@jupyter-widgets/base",
          "model_name": "LayoutModel",
          "state": {
            "_view_name": "LayoutView",
            "grid_template_rows": null,
            "right": null,
            "justify_content": null,
            "_view_module": "@jupyter-widgets/base",
            "overflow": null,
            "_model_module_version": "1.2.0",
            "_view_count": null,
            "flex_flow": null,
            "width": null,
            "min_width": null,
            "border": null,
            "align_items": null,
            "bottom": null,
            "_model_module": "@jupyter-widgets/base",
            "top": null,
            "grid_column": null,
            "overflow_y": null,
            "overflow_x": null,
            "grid_auto_flow": null,
            "grid_area": null,
            "grid_template_columns": null,
            "flex": null,
            "_model_name": "LayoutModel",
            "justify_items": null,
            "grid_row": null,
            "max_height": null,
            "align_content": null,
            "visibility": null,
            "align_self": null,
            "height": null,
            "min_height": null,
            "padding": null,
            "grid_auto_rows": null,
            "grid_gap": null,
            "max_width": null,
            "order": null,
            "_view_module_version": "1.2.0",
            "grid_template_areas": null,
            "object_position": null,
            "object_fit": null,
            "grid_auto_columns": null,
            "margin": null,
            "display": null,
            "left": null
          }
        }
      }
    }
  },
  "cells": [
    {
      "cell_type": "markdown",
      "metadata": {
        "id": "view-in-github",
        "colab_type": "text"
      },
      "source": [
        "<a href=\"https://colab.research.google.com/github/FANJIYU0825/data-analyst--pratice/blob/update/%E6%8D%89%E5%8F%96%E4%B8%AD%E5%9C%8B%E5%AE%98%E6%96%B9%E7%B6%B2%E7%AB%99%20.ipynb\" target=\"_parent\"><img src=\"https://colab.research.google.com/assets/colab-badge.svg\" alt=\"Open In Colab\"/></a>"
      ]
    },
    {
      "cell_type": "markdown",
      "metadata": {
        "id": "Zyq2eNEkipam",
        "colab_type": "text"
      },
      "source": [
        "#有問題就去看官方文件 很好玩的\n",
        "簡介:https://research.google.com/colaboratory/faq.html<br>\n",
        "\n",
        "說明文件:https://colab.research.google.com/notebooks/welcome.ipynb\n"
      ]
    },
    {
      "cell_type": "markdown",
      "metadata": {
        "id": "6c5ZJyoGeIRx",
        "colab_type": "text"
      },
      "source": [
        "#爬取大陸國家假統計肺炎網站(扣除台灣/香港/澳門)"
      ]
    },
    {
      "cell_type": "markdown",
      "metadata": {
        "id": "fJjHxbn4eOyr",
        "colab_type": "text"
      },
      "source": [
        "##爬蟲"
      ]
    },
    {
      "cell_type": "code",
      "metadata": {
        "id": "CopKl6qrcvlB",
        "colab_type": "code",
        "colab": {}
      },
      "source": [
        "#爬取大陸國家假統計肺炎網站(扣除台灣/香港/澳門)\n",
        "import requests as res\n",
        "from bs4 import BeautifulSoup\n",
        "import pandas as pd\n",
        "import numpy as np \n",
        "\n",
        "url = 'http://ncov.dxy.cn/ncovh5/view/pneumonia'\n",
        "response = res.get(url) # text 屬性就是 html 檔案\n",
        "response.encoding = 'utf-8'\n",
        "soup = BeautifulSoup(response.text, \"lxml\") # 指定 lxml 作為解析器\n",
        "kk = soup.find(id=\"getAreaStat\")\n",
        "kks = kk.text\n",
        "kiki = kks.replace('}catch(e){}','') #replace 多餘的文字\n",
        "karen = kiki.replace('try { window.getAreaStat = ','')#replace 多於文字"
      ],
      "execution_count": 0,
      "outputs": []
    },
    {
      "cell_type": "markdown",
      "metadata": {
        "id": "HviX4gg1fEzk",
        "colab_type": "text"
      },
      "source": [
        "##karen 是一個字串(str) 把字串轉化(list) y"
      ]
    },
    {
      "cell_type": "code",
      "metadata": {
        "id": "1HofJUrofFPQ",
        "colab_type": "code",
        "colab": {}
      },
      "source": [
        "import json\n",
        "y = json.loads(karen)\n",
        "provinceName = []\n",
        "for yams in y:\n",
        "    if yams['provinceName'] !='香港':\n",
        "      if yams['provinceName'] !='台湾':\n",
        "        if yams['provinceName'] !='澳门':\n",
        "          provinceName.append(yams)\n",
        "          "
      ],
      "execution_count": 0,
      "outputs": []
    },
    {
      "cell_type": "markdown",
      "metadata": {
        "id": "XZ6evkyy1Qvx",
        "colab_type": "text"
      },
      "source": [
        "當日以及 所天數檔案的`json`{statisticsData}\t"
      ]
    },
    {
      "cell_type": "code",
      "metadata": {
        "id": "rym7wvwvJomL",
        "colab_type": "code",
        "outputId": "8132ecb8-8aaf-4b78-db0e-27dbc96c9935",
        "colab": {
          "base_uri": "https://localhost:8080/",
          "height": 116
        }
      },
      "source": [
        "new_df = pd.DataFrame(provinceName)\n",
        "new_df.head(1)"
      ],
      "execution_count": 3,
      "outputs": [
        {
          "output_type": "execute_result",
          "data": {
            "text/html": [
              "<div>\n",
              "<style scoped>\n",
              "    .dataframe tbody tr th:only-of-type {\n",
              "        vertical-align: middle;\n",
              "    }\n",
              "\n",
              "    .dataframe tbody tr th {\n",
              "        vertical-align: top;\n",
              "    }\n",
              "\n",
              "    .dataframe thead th {\n",
              "        text-align: right;\n",
              "    }\n",
              "</style>\n",
              "<table border=\"1\" class=\"dataframe\">\n",
              "  <thead>\n",
              "    <tr style=\"text-align: right;\">\n",
              "      <th></th>\n",
              "      <th>provinceName</th>\n",
              "      <th>provinceShortName</th>\n",
              "      <th>currentConfirmedCount</th>\n",
              "      <th>confirmedCount</th>\n",
              "      <th>suspectedCount</th>\n",
              "      <th>curedCount</th>\n",
              "      <th>deadCount</th>\n",
              "      <th>comment</th>\n",
              "      <th>locationId</th>\n",
              "      <th>statisticsData</th>\n",
              "      <th>cities</th>\n",
              "    </tr>\n",
              "  </thead>\n",
              "  <tbody>\n",
              "    <tr>\n",
              "      <th>0</th>\n",
              "      <td>黑龙江省</td>\n",
              "      <td>黑龙江</td>\n",
              "      <td>340</td>\n",
              "      <td>939</td>\n",
              "      <td>384</td>\n",
              "      <td>586</td>\n",
              "      <td>13</td>\n",
              "      <td></td>\n",
              "      <td>230000</td>\n",
              "      <td>https://file1.dxycdn.com/2020/0223/643/3398299...</td>\n",
              "      <td>[{'cityName': '境外输入', 'currentConfirmedCount':...</td>\n",
              "    </tr>\n",
              "  </tbody>\n",
              "</table>\n",
              "</div>"
            ],
            "text/plain": [
              "  provinceName  ...                                             cities\n",
              "0         黑龙江省  ...  [{'cityName': '境外输入', 'currentConfirmedCount':...\n",
              "\n",
              "[1 rows x 11 columns]"
            ]
          },
          "metadata": {
            "tags": []
          },
          "execution_count": 3
        }
      ]
    },
    {
      "cell_type": "markdown",
      "metadata": {
        "id": "xNYx0cY5eWZ6",
        "colab_type": "text"
      },
      "source": [
        "find what we need"
      ]
    },
    {
      "cell_type": "markdown",
      "metadata": {
        "id": "n6d7QviWhGfR",
        "colab_type": "text"
      },
      "source": [
        "{`provinceName`} {`statisticsData`}"
      ]
    },
    {
      "cell_type": "code",
      "metadata": {
        "id": "JO0DLDSTGEAc",
        "colab_type": "code",
        "colab": {}
      },
      "source": [
        "df_info = new_df.loc[:,['provinceName','statisticsData']]\n",
        "df_info"
      ],
      "execution_count": 0,
      "outputs": []
    },
    {
      "cell_type": "code",
      "metadata": {
        "id": "8ioAGO1tHZl_",
        "colab_type": "code",
        "colab": {
          "base_uri": "https://localhost:8080/",
          "height": 66,
          "referenced_widgets": [
            "35795b25ca3340c8a0c7fcb842f8343f",
            "c9aa7c2bd0544bb698ac804e19759f42",
            "516e7cd23c264d5cbaf2d6fca1231fc8",
            "033de4ebdb7a4361b40fe1c6f10de271",
            "d4e82f0c97294cd1a984e58cefa89d77",
            "f401230574494115b0916422d4292d6b",
            "fcea21f01a9d445f94878059fd201810",
            "fbbe2e4963d340c4949bc251e01e0754"
          ]
        },
        "outputId": "5f468ada-9320-461e-9497-3a5f2919a8a4"
      },
      "source": [
        "# 利用2輪迴圈取數值\n",
        "to_names =[]\n",
        "to_prevname = []\n",
        "with tqdm(total = len(df_info) ) as pbar:\n",
        "  for x in range (len(df_info)) :\n",
        "    df = pd.read_json(df_info['statisticsData'][x])\n",
        "    provinceName = df_info['provinceName'][x]\n",
        "    df[f'{provinceName}'] =provinceName\n",
        "    df = df.loc[:,[f'{provinceName}','data']]\n",
        "    df_n= df.loc[:,[f'{provinceName}']]\n",
        "    df_n['dateId']= [x['dateId']\n",
        "                      for x in df['data']]\n",
        "    df_n['confirmedCount']= [x['confirmedCount']\n",
        "                      for x in df['data']]\n",
        "    df_n['confirmedCount']= [x['confirmedCount']\n",
        "                      for x in df['data']]\n",
        "    df_n['curedCount']= [x['curedCount']\n",
        "                      for x in df['data']]\n",
        "    df_n['deadCount']= [x['deadCount']\n",
        "                      for x in df['data']]\n",
        "    #時間處理程序 \n",
        "    df_n['dateId']= pd.to_datetime(df_n['dateId'], format='%Y%m%d', errors='ignore')\n",
        "    to_names.append(df_n)\n",
        "    pbar.update()"
      ],
      "execution_count": 9,
      "outputs": [
        {
          "output_type": "display_data",
          "data": {
            "application/vnd.jupyter.widget-view+json": {
              "model_id": "35795b25ca3340c8a0c7fcb842f8343f",
              "version_minor": 0,
              "version_major": 2
            },
            "text/plain": [
              "HBox(children=(IntProgress(value=0, max=31), HTML(value='')))"
            ]
          },
          "metadata": {
            "tags": []
          }
        },
        {
          "output_type": "stream",
          "text": [
            "\n"
          ],
          "name": "stdout"
        }
      ]
    },
    {
      "cell_type": "code",
      "metadata": {
        "id": "HcLKKnJxLSl3",
        "colab_type": "code",
        "outputId": "5374fdc5-956d-4f36-8817-697782d428ff",
        "colab": {
          "base_uri": "https://localhost:8080/",
          "height": 370
        }
      },
      "source": [
        "#  use 31count province right join\n",
        "df_convir= pd.concat(to_names,axis=1,join='inner')\n",
        "df_convir.head(1)"
      ],
      "execution_count": 0,
      "outputs": [
        {
          "output_type": "execute_result",
          "data": {
            "text/html": [
              "<div>\n",
              "<style scoped>\n",
              "    .dataframe tbody tr th:only-of-type {\n",
              "        vertical-align: middle;\n",
              "    }\n",
              "\n",
              "    .dataframe tbody tr th {\n",
              "        vertical-align: top;\n",
              "    }\n",
              "\n",
              "    .dataframe thead th {\n",
              "        text-align: right;\n",
              "    }\n",
              "</style>\n",
              "<table border=\"1\" class=\"dataframe\">\n",
              "  <thead>\n",
              "    <tr style=\"text-align: right;\">\n",
              "      <th></th>\n",
              "      <th>黑龙江省</th>\n",
              "      <th>dateId</th>\n",
              "      <th>confirmedCount</th>\n",
              "      <th>curedCount</th>\n",
              "      <th>deadCount</th>\n",
              "      <th>上海市</th>\n",
              "      <th>dateId</th>\n",
              "      <th>confirmedCount</th>\n",
              "      <th>curedCount</th>\n",
              "      <th>deadCount</th>\n",
              "      <th>内蒙古自治区</th>\n",
              "      <th>dateId</th>\n",
              "      <th>confirmedCount</th>\n",
              "      <th>curedCount</th>\n",
              "      <th>deadCount</th>\n",
              "      <th>湖北省</th>\n",
              "      <th>dateId</th>\n",
              "      <th>confirmedCount</th>\n",
              "      <th>curedCount</th>\n",
              "      <th>deadCount</th>\n",
              "      <th>北京市</th>\n",
              "      <th>dateId</th>\n",
              "      <th>confirmedCount</th>\n",
              "      <th>curedCount</th>\n",
              "      <th>deadCount</th>\n",
              "      <th>广东省</th>\n",
              "      <th>dateId</th>\n",
              "      <th>confirmedCount</th>\n",
              "      <th>curedCount</th>\n",
              "      <th>deadCount</th>\n",
              "      <th>山西省</th>\n",
              "      <th>dateId</th>\n",
              "      <th>confirmedCount</th>\n",
              "      <th>curedCount</th>\n",
              "      <th>deadCount</th>\n",
              "      <th>陕西省</th>\n",
              "      <th>dateId</th>\n",
              "      <th>confirmedCount</th>\n",
              "      <th>curedCount</th>\n",
              "      <th>deadCount</th>\n",
              "      <th>...</th>\n",
              "      <th>广西壮族自治区</th>\n",
              "      <th>dateId</th>\n",
              "      <th>confirmedCount</th>\n",
              "      <th>curedCount</th>\n",
              "      <th>deadCount</th>\n",
              "      <th>海南省</th>\n",
              "      <th>dateId</th>\n",
              "      <th>confirmedCount</th>\n",
              "      <th>curedCount</th>\n",
              "      <th>deadCount</th>\n",
              "      <th>贵州省</th>\n",
              "      <th>dateId</th>\n",
              "      <th>confirmedCount</th>\n",
              "      <th>curedCount</th>\n",
              "      <th>deadCount</th>\n",
              "      <th>甘肃省</th>\n",
              "      <th>dateId</th>\n",
              "      <th>confirmedCount</th>\n",
              "      <th>curedCount</th>\n",
              "      <th>deadCount</th>\n",
              "      <th>新疆维吾尔自治区</th>\n",
              "      <th>dateId</th>\n",
              "      <th>confirmedCount</th>\n",
              "      <th>curedCount</th>\n",
              "      <th>deadCount</th>\n",
              "      <th>宁夏回族自治区</th>\n",
              "      <th>dateId</th>\n",
              "      <th>confirmedCount</th>\n",
              "      <th>curedCount</th>\n",
              "      <th>deadCount</th>\n",
              "      <th>青海省</th>\n",
              "      <th>dateId</th>\n",
              "      <th>confirmedCount</th>\n",
              "      <th>curedCount</th>\n",
              "      <th>deadCount</th>\n",
              "      <th>西藏自治区</th>\n",
              "      <th>dateId</th>\n",
              "      <th>confirmedCount</th>\n",
              "      <th>curedCount</th>\n",
              "      <th>deadCount</th>\n",
              "    </tr>\n",
              "  </thead>\n",
              "  <tbody>\n",
              "    <tr>\n",
              "      <th>0</th>\n",
              "      <td>黑龙江省</td>\n",
              "      <td>2020-01-23</td>\n",
              "      <td>4</td>\n",
              "      <td>0</td>\n",
              "      <td>1</td>\n",
              "      <td>上海市</td>\n",
              "      <td>2020-01-20</td>\n",
              "      <td>1</td>\n",
              "      <td>0</td>\n",
              "      <td>0</td>\n",
              "      <td>内蒙古自治区</td>\n",
              "      <td>2020-01-23</td>\n",
              "      <td>1</td>\n",
              "      <td>0</td>\n",
              "      <td>0</td>\n",
              "      <td>湖北省</td>\n",
              "      <td>2020-01-20</td>\n",
              "      <td>270</td>\n",
              "      <td>25</td>\n",
              "      <td>6</td>\n",
              "      <td>北京市</td>\n",
              "      <td>2020-01-20</td>\n",
              "      <td>5</td>\n",
              "      <td>0</td>\n",
              "      <td>0</td>\n",
              "      <td>广东省</td>\n",
              "      <td>2020-01-19</td>\n",
              "      <td>1</td>\n",
              "      <td>0</td>\n",
              "      <td>0</td>\n",
              "      <td>山西省</td>\n",
              "      <td>2020-01-22</td>\n",
              "      <td>1</td>\n",
              "      <td>0</td>\n",
              "      <td>0</td>\n",
              "      <td>陕西省</td>\n",
              "      <td>2020-01-23</td>\n",
              "      <td>3</td>\n",
              "      <td>0</td>\n",
              "      <td>0</td>\n",
              "      <td>...</td>\n",
              "      <td>广西壮族自治区</td>\n",
              "      <td>2020-01-22</td>\n",
              "      <td>2</td>\n",
              "      <td>0</td>\n",
              "      <td>0</td>\n",
              "      <td>海南省</td>\n",
              "      <td>2020-01-22</td>\n",
              "      <td>4</td>\n",
              "      <td>0</td>\n",
              "      <td>0</td>\n",
              "      <td>贵州省</td>\n",
              "      <td>2020-01-23</td>\n",
              "      <td>3</td>\n",
              "      <td>0</td>\n",
              "      <td>0</td>\n",
              "      <td>甘肃省</td>\n",
              "      <td>2020-01-23</td>\n",
              "      <td>2</td>\n",
              "      <td>0</td>\n",
              "      <td>0</td>\n",
              "      <td>新疆维吾尔自治区</td>\n",
              "      <td>2020-01-23</td>\n",
              "      <td>2</td>\n",
              "      <td>0</td>\n",
              "      <td>0</td>\n",
              "      <td>宁夏回族自治区</td>\n",
              "      <td>2020-01-23</td>\n",
              "      <td>2</td>\n",
              "      <td>0</td>\n",
              "      <td>0</td>\n",
              "      <td>青海省</td>\n",
              "      <td>2020-01-25</td>\n",
              "      <td>1</td>\n",
              "      <td>0</td>\n",
              "      <td>0</td>\n",
              "      <td>西藏自治区</td>\n",
              "      <td>2020-01-29</td>\n",
              "      <td>1</td>\n",
              "      <td>0</td>\n",
              "      <td>0</td>\n",
              "    </tr>\n",
              "  </tbody>\n",
              "</table>\n",
              "<p>1 rows × 155 columns</p>\n",
              "</div>"
            ],
            "text/plain": [
              "   黑龙江省     dateId  confirmedCount  ...  confirmedCount  curedCount deadCount\n",
              "0  黑龙江省 2020-01-23               4  ...               1           0         0\n",
              "\n",
              "[1 rows x 155 columns]"
            ]
          },
          "metadata": {
            "tags": []
          },
          "execution_count": 22
        }
      ]
    },
    {
      "cell_type": "code",
      "metadata": {
        "id": "hKbsp0pAVcxa",
        "colab_type": "code",
        "colab": {
          "base_uri": "https://localhost:8080/",
          "height": 66,
          "referenced_widgets": [
            "64f148128745409fab061b3183f87629",
            "bb64ebdf845540e6ba154362490aa053",
            "93e3e058e31346869e7ec91ee5435155",
            "54afda1489fe438491952d56c2d01e36",
            "8e0335b1be1441dd8a35855df8288481",
            "6b4f0e9eefc0400998df1d9676e4d3d8",
            "33bc3e008f6545c0bff9e34821dd3ab0",
            "614a1cbb41774bd39d75f88ea1a65400"
          ]
        },
        "outputId": "0c71e734-7ba4-4850-96fd-8d5e039e0c29"
      },
      "source": [
        "\n",
        "data =[]\n",
        "province_ls= []\n",
        "with tqdm(total = len(df_info) ) as pbar:\n",
        "  for x in range (len(df_info)) :\n",
        "    df = pd.read_json(df_info['statisticsData'][x])\n",
        "    provinceName = df_info['provinceName'][x]\n",
        "    df['provincenae'] =provinceName\n",
        "    df = df.loc[:,['provincenae','data']]\n",
        "    province_ls.append(provinceName)\n",
        "    data.append(df)\n",
        "    pbar.update()"
      ],
      "execution_count": 10,
      "outputs": [
        {
          "output_type": "display_data",
          "data": {
            "application/vnd.jupyter.widget-view+json": {
              "model_id": "64f148128745409fab061b3183f87629",
              "version_minor": 0,
              "version_major": 2
            },
            "text/plain": [
              "HBox(children=(IntProgress(value=0, max=31), HTML(value='')))"
            ]
          },
          "metadata": {
            "tags": []
          }
        },
        {
          "output_type": "stream",
          "text": [
            "\n"
          ],
          "name": "stdout"
        }
      ]
    },
    {
      "cell_type": "code",
      "metadata": {
        "id": "tovurb3MNbBx",
        "colab_type": "code",
        "colab": {}
      },
      "source": [
        "for x in data:\n",
        "  print(x)"
      ],
      "execution_count": 0,
      "outputs": []
    },
    {
      "cell_type": "code",
      "metadata": {
        "id": "LKgk7Houaxyk",
        "colab_type": "code",
        "colab": {
          "base_uri": "https://localhost:8080/",
          "height": 115,
          "referenced_widgets": [
            "0bede44f87bc4a7f98b0ba1186adc46b",
            "08ba7fdf9007460da6bb58c1eab04106",
            "cb12a3c5fa9644f1afa3c73a1c060a43",
            "f85bff9cccd2494687dac9c8585ca9ab",
            "add72190c42b42648ba176bbc4b18098",
            "963d95ae02444d869784cf9de48bfd7f",
            "d49594f242034f92a46307bea7744b57",
            "0184f83951d94eea92ebb47f5bfd6059",
            "8361bc90cb2b4d28b8b988bbc746956c",
            "31dbe03181684d5d8b09faa8dc427fca",
            "c47069425e2a4651aa7b66083f0c672e",
            "758b5c44841e482fb70b72f5dc391b8f",
            "4029cdaed3c04c7696cc459c891bcc52",
            "690d61ab231b4c53932502aaf0c8629f",
            "68aa98539edd4710b7122492e305d25f",
            "11870727006b45f6b36164ad788d5f9b"
          ]
        },
        "outputId": "fec4713f-0433-45e9-f9af-253aa8865d62"
      },
      "source": [
        "to_csv = []\n",
        "to_name = []\n",
        "with tqdm(total = len(data) ) as pbar:\n",
        "  for x in data:\n",
        "    for xs in x['data']:\n",
        "      \n",
        "      to_csv.append({'dateId':xs['dateId'],\n",
        "          'confirmedCount':xs['confirmedCount'],\n",
        "          'curedCount':xs['curedCount'],\n",
        "          'deadCount':xs['deadCount']})\n",
        "      pbar.update()\n",
        "\n",
        "\n",
        "with tqdm(total = len(data) ) as pbar:\n",
        "  for x in data:\n",
        "    for xs in x['provincenae']:\n",
        "      \n",
        "      to_name.append({'provinceName':xs})\n",
        "      pbar.update()"
      ],
      "execution_count": 55,
      "outputs": [
        {
          "output_type": "display_data",
          "data": {
            "application/vnd.jupyter.widget-view+json": {
              "model_id": "0bede44f87bc4a7f98b0ba1186adc46b",
              "version_minor": 0,
              "version_major": 2
            },
            "text/plain": [
              "HBox(children=(IntProgress(value=0, max=31), HTML(value='')))"
            ]
          },
          "metadata": {
            "tags": []
          }
        },
        {
          "output_type": "stream",
          "text": [
            "\n"
          ],
          "name": "stdout"
        },
        {
          "output_type": "display_data",
          "data": {
            "application/vnd.jupyter.widget-view+json": {
              "model_id": "8361bc90cb2b4d28b8b988bbc746956c",
              "version_minor": 0,
              "version_major": 2
            },
            "text/plain": [
              "HBox(children=(IntProgress(value=0, max=31), HTML(value='')))"
            ]
          },
          "metadata": {
            "tags": []
          }
        },
        {
          "output_type": "stream",
          "text": [
            "\n"
          ],
          "name": "stdout"
        }
      ]
    },
    {
      "cell_type": "code",
      "metadata": {
        "id": "oFZLx_mInfIV",
        "colab_type": "code",
        "colab": {}
      },
      "source": [
        "df_csv = pd.DataFrame(to_csv)\n",
        "df_name = pd.DataFrame(to_name)\n",
        "df_all= pd.concat([df_name,df_csv],axis=1)\n",
        "df_all['dateId']= pd.to_datetime(df_all['dateId'], format='%Y%m%d', errors='ignore')"
      ],
      "execution_count": 0,
      "outputs": []
    },
    {
      "cell_type": "code",
      "metadata": {
        "id": "myX9gZFORbwx",
        "colab_type": "code",
        "colab": {
          "base_uri": "https://localhost:8080/",
          "height": 109
        },
        "outputId": "b80db7bd-b138-4d31-8b8e-745b06ebb422"
      },
      "source": [
        "df_all.sample(2)"
      ],
      "execution_count": 56,
      "outputs": [
        {
          "output_type": "execute_result",
          "data": {
            "text/html": [
              "<div>\n",
              "<style scoped>\n",
              "    .dataframe tbody tr th:only-of-type {\n",
              "        vertical-align: middle;\n",
              "    }\n",
              "\n",
              "    .dataframe tbody tr th {\n",
              "        vertical-align: top;\n",
              "    }\n",
              "\n",
              "    .dataframe thead th {\n",
              "        text-align: right;\n",
              "    }\n",
              "</style>\n",
              "<table border=\"1\" class=\"dataframe\">\n",
              "  <thead>\n",
              "    <tr style=\"text-align: right;\">\n",
              "      <th></th>\n",
              "      <th>provinceName</th>\n",
              "      <th>dateId</th>\n",
              "      <th>confirmedCount</th>\n",
              "      <th>curedCount</th>\n",
              "      <th>deadCount</th>\n",
              "    </tr>\n",
              "  </thead>\n",
              "  <tbody>\n",
              "    <tr>\n",
              "      <th>417</th>\n",
              "      <td>北京市</td>\n",
              "      <td>2020-02-19</td>\n",
              "      <td>395</td>\n",
              "      <td>153</td>\n",
              "      <td>4</td>\n",
              "    </tr>\n",
              "    <tr>\n",
              "      <th>843</th>\n",
              "      <td>吉林省</td>\n",
              "      <td>2020-03-27</td>\n",
              "      <td>97</td>\n",
              "      <td>92</td>\n",
              "      <td>1</td>\n",
              "    </tr>\n",
              "  </tbody>\n",
              "</table>\n",
              "</div>"
            ],
            "text/plain": [
              "    provinceName     dateId  confirmedCount  curedCount  deadCount\n",
              "417          北京市 2020-02-19             395         153          4\n",
              "843          吉林省 2020-03-27              97          92          1"
            ]
          },
          "metadata": {
            "tags": []
          },
          "execution_count": 56
        }
      ]
    },
    {
      "cell_type": "code",
      "metadata": {
        "id": "UNqaZf9zrxta",
        "colab_type": "code",
        "colab": {}
      },
      "source": [
        "df_all.to_csv('/content/drive/My Drive/PAPER/df_all.csv')"
      ],
      "execution_count": 0,
      "outputs": []
    }
  ]
}