{
  "nbformat": 4,
  "nbformat_minor": 0,
  "metadata": {
    "colab": {
      "name": "cola 練習 給倫哥",
      "provenance": [],
      "collapsed_sections": [
        "8tlKkaQchKPg",
        "Ruhp0SmwhVuZ",
        "Dmz-MTGZiGUb"
      ],
      "mount_file_id": "1BFznV3JuDSwEXNuRN6UZnptT5eT_RPEs",
      "authorship_tag": "ABX9TyN8/HWsgmnhfp+RMkJe3PxI",
      "include_colab_link": true
    },
    "kernelspec": {
      "name": "python3",
      "display_name": "Python 3"
    }
  },
  "cells": [
    {
      "cell_type": "markdown",
      "metadata": {
        "id": "view-in-github",
        "colab_type": "text"
      },
      "source": [
        "<a href=\"https://colab.research.google.com/github/FANJIYU0825/data-analyst--pratice/blob/fetch_data/finish_varible_name%20.ipynb\" target=\"_parent\"><img src=\"https://colab.research.google.com/assets/colab-badge.svg\" alt=\"Open In Colab\"/></a>"
      ]
    },
    {
      "cell_type": "markdown",
      "metadata": {
        "id": "Zyq2eNEkipam",
        "colab_type": "text"
      },
      "source": [
        "#有問題就去看官方文件 很好玩的\n",
        "簡介:https://research.google.com/colaboratory/faq.html<br>\n",
        "\n",
        "說明文件:https://colab.research.google.com/notebooks/welcome.ipynb\n"
      ]
    },
    {
      "cell_type": "markdown",
      "metadata": {
        "id": "6c5ZJyoGeIRx",
        "colab_type": "text"
      },
      "source": [
        "#爬取大陸國家假統計肺炎網站(扣除台灣/香港/澳門)"
      ]
    },
    {
      "cell_type": "markdown",
      "metadata": {
        "id": "fJjHxbn4eOyr",
        "colab_type": "text"
      },
      "source": [
        "##爬蟲"
      ]
    },
    {
      "cell_type": "code",
      "metadata": {
        "id": "CopKl6qrcvlB",
        "colab_type": "code",
        "colab": {}
      },
      "source": [
        "#爬取大陸國家假統計肺炎網站(扣除台灣/香港/澳門)\n",
        "import requests as res\n",
        "from bs4 import BeautifulSoup\n",
        "import pandas as pd\n",
        "import numpy as np \n",
        "from tqdm import tqdm \n",
        "url = 'http://ncov.dxy.cn/ncovh5/view/pneumonia'\n",
        "response = res.get(url) # text 屬性就是 html 檔案\n",
        "response.encoding = 'utf-8'\n",
        "soup = BeautifulSoup(response.text, \"lxml\") # 指定 lxml 作為解析器\n",
        "get_area = soup.find(id=\"getAreaStat\")\n",
        "area_text = get_area.text\n",
        "area_catreplace = area_text.replace('}catch(e){}','') #replace 多餘的文字\n",
        "area_json = area_catreplace.replace('try { window.getAreaStat = ','')#replace 多於文字"
      ],
      "execution_count": 0,
      "outputs": []
    },
    {
      "cell_type": "markdown",
      "metadata": {
        "id": "HviX4gg1fEzk",
        "colab_type": "text"
      },
      "source": [
        "##area_json 是一個字串(str) 把字串轉化(list) "
      ]
    },
    {
      "cell_type": "code",
      "metadata": {
        "id": "1HofJUrofFPQ",
        "colab_type": "code",
        "colab": {}
      },
      "source": [
        "import json\n",
        "area_json = json.loads(area_json)\n",
        "provinceName = []\n",
        "for area_select in area_json:\n",
        "    if area_select['provinceName'] !='香港':\n",
        "      if area_select['provinceName'] !='台湾':\n",
        "        if area_select['provinceName'] !='澳门':\n",
        "          provinceName.append(area_select)\n",
        "          "
      ],
      "execution_count": 0,
      "outputs": []
    },
    {
      "cell_type": "markdown",
      "metadata": {
        "id": "XZ6evkyy1Qvx",
        "colab_type": "text"
      },
      "source": [
        "當日以及 所天數檔案的`json`{statisticsData}\t"
      ]
    },
    {
      "cell_type": "code",
      "metadata": {
        "id": "rym7wvwvJomL",
        "colab_type": "code",
        "outputId": "d5169252-82b6-4ba5-aeef-7f4767c132c2",
        "colab": {
          "base_uri": "https://localhost:8080/",
          "height": 133
        }
      },
      "source": [
        "today_df = pd.DataFrame(provinceName)\n",
        "today_df.head(1)"
      ],
      "execution_count": 3,
      "outputs": [
        {
          "output_type": "execute_result",
          "data": {
            "text/html": [
              "<div>\n",
              "<style scoped>\n",
              "    .dataframe tbody tr th:only-of-type {\n",
              "        vertical-align: middle;\n",
              "    }\n",
              "\n",
              "    .dataframe tbody tr th {\n",
              "        vertical-align: top;\n",
              "    }\n",
              "\n",
              "    .dataframe thead th {\n",
              "        text-align: right;\n",
              "    }\n",
              "</style>\n",
              "<table border=\"1\" class=\"dataframe\">\n",
              "  <thead>\n",
              "    <tr style=\"text-align: right;\">\n",
              "      <th></th>\n",
              "      <th>provinceName</th>\n",
              "      <th>provinceShortName</th>\n",
              "      <th>currentConfirmedCount</th>\n",
              "      <th>confirmedCount</th>\n",
              "      <th>suspectedCount</th>\n",
              "      <th>curedCount</th>\n",
              "      <th>deadCount</th>\n",
              "      <th>comment</th>\n",
              "      <th>locationId</th>\n",
              "      <th>statisticsData</th>\n",
              "      <th>cities</th>\n",
              "    </tr>\n",
              "  </thead>\n",
              "  <tbody>\n",
              "    <tr>\n",
              "      <th>0</th>\n",
              "      <td>内蒙古自治区</td>\n",
              "      <td>内蒙古</td>\n",
              "      <td>25</td>\n",
              "      <td>227</td>\n",
              "      <td>34</td>\n",
              "      <td>201</td>\n",
              "      <td>1</td>\n",
              "      <td></td>\n",
              "      <td>150000</td>\n",
              "      <td>https://file1.dxycdn.com/2020/0223/783/3398299...</td>\n",
              "      <td>[{'cityName': '境外输入人员', 'currentConfirmedCount...</td>\n",
              "    </tr>\n",
              "  </tbody>\n",
              "</table>\n",
              "</div>"
            ],
            "text/plain": [
              "  provinceName  ...                                             cities\n",
              "0       内蒙古自治区  ...  [{'cityName': '境外输入人员', 'currentConfirmedCount...\n",
              "\n",
              "[1 rows x 11 columns]"
            ]
          },
          "metadata": {
            "tags": []
          },
          "execution_count": 3
        }
      ]
    },
    {
      "cell_type": "markdown",
      "metadata": {
        "id": "xNYx0cY5eWZ6",
        "colab_type": "text"
      },
      "source": [
        "##right_join dataFrame"
      ]
    },
    {
      "cell_type": "markdown",
      "metadata": {
        "id": "n6d7QviWhGfR",
        "colab_type": "text"
      },
      "source": [
        "{`provinceName`} {`statisticsData`}"
      ]
    },
    {
      "cell_type": "code",
      "metadata": {
        "id": "JO0DLDSTGEAc",
        "colab_type": "code",
        "colab": {}
      },
      "source": [
        "all_data_url = today_df.loc[:,['provinceName','statisticsData']]"
      ],
      "execution_count": 0,
      "outputs": []
    },
    {
      "cell_type": "code",
      "metadata": {
        "id": "8ioAGO1tHZl_",
        "colab_type": "code",
        "outputId": "a48b6131-c3f5-4e8c-f38f-b96965fbc5e6",
        "colab": {
          "base_uri": "https://localhost:8080/",
          "height": 34
        }
      },
      "source": [
        "# 利用2輪迴圈取數值\n",
        "to_names =[]\n",
        "to_prevname = []\n",
        "with tqdm(total = len(all_data_url) ) as pbar:\n",
        "  for x in range (len(all_data_url)) :\n",
        "    df = pd.read_json(all_data_url['statisticsData'][x])\n",
        "    provinceName = all_data_url['provinceName'][x]\n",
        "    df[f'{provinceName}'] =provinceName\n",
        "    df = df.loc[:,[f'{provinceName}','data']]\n",
        "    df_n= df.loc[:,[f'{provinceName}']]\n",
        "    df_n['dateId']= [x['dateId']\n",
        "                      for x in df['data']]\n",
        "    df_n['confirmedCount']= [x['confirmedCount']\n",
        "                      for x in df['data']]\n",
        "    df_n['confirmedCount']= [x['confirmedCount']\n",
        "                      for x in df['data']]\n",
        "    df_n['curedCount']= [x['curedCount']\n",
        "                      for x in df['data']]\n",
        "    df_n['deadCount']= [x['deadCount']\n",
        "                      for x in df['data']]\n",
        "    #時間處理程序 \n",
        "    df_n['dateId']= pd.to_datetime(df_n['dateId'], format='%Y%m%d', errors='ignore')\n",
        "    to_names.append(df_n)\n",
        "    pbar.update()"
      ],
      "execution_count": 6,
      "outputs": [
        {
          "output_type": "stream",
          "text": [
            "100%|██████████| 31/31 [00:19<00:00,  1.55it/s]\n"
          ],
          "name": "stderr"
        }
      ]
    },
    {
      "cell_type": "code",
      "metadata": {
        "id": "HcLKKnJxLSl3",
        "colab_type": "code",
        "outputId": "97a1836b-b0d2-4726-e7e9-a1daef47a39a",
        "colab": {
          "base_uri": "https://localhost:8080/",
          "height": 369
        }
      },
      "source": [
        "#  use 31count province right join\n",
        "df_convir= pd.concat(to_names,axis=1,join='inner')\n",
        "df_convir.head(1)"
      ],
      "execution_count": 7,
      "outputs": [
        {
          "output_type": "execute_result",
          "data": {
            "text/html": [
              "<div>\n",
              "<style scoped>\n",
              "    .dataframe tbody tr th:only-of-type {\n",
              "        vertical-align: middle;\n",
              "    }\n",
              "\n",
              "    .dataframe tbody tr th {\n",
              "        vertical-align: top;\n",
              "    }\n",
              "\n",
              "    .dataframe thead th {\n",
              "        text-align: right;\n",
              "    }\n",
              "</style>\n",
              "<table border=\"1\" class=\"dataframe\">\n",
              "  <thead>\n",
              "    <tr style=\"text-align: right;\">\n",
              "      <th></th>\n",
              "      <th>内蒙古自治区</th>\n",
              "      <th>dateId</th>\n",
              "      <th>confirmedCount</th>\n",
              "      <th>curedCount</th>\n",
              "      <th>deadCount</th>\n",
              "      <th>吉林省</th>\n",
              "      <th>dateId</th>\n",
              "      <th>confirmedCount</th>\n",
              "      <th>curedCount</th>\n",
              "      <th>deadCount</th>\n",
              "      <th>上海市</th>\n",
              "      <th>dateId</th>\n",
              "      <th>confirmedCount</th>\n",
              "      <th>curedCount</th>\n",
              "      <th>deadCount</th>\n",
              "      <th>湖北省</th>\n",
              "      <th>dateId</th>\n",
              "      <th>confirmedCount</th>\n",
              "      <th>curedCount</th>\n",
              "      <th>deadCount</th>\n",
              "      <th>广东省</th>\n",
              "      <th>dateId</th>\n",
              "      <th>confirmedCount</th>\n",
              "      <th>curedCount</th>\n",
              "      <th>deadCount</th>\n",
              "      <th>北京市</th>\n",
              "      <th>dateId</th>\n",
              "      <th>confirmedCount</th>\n",
              "      <th>curedCount</th>\n",
              "      <th>deadCount</th>\n",
              "      <th>四川省</th>\n",
              "      <th>dateId</th>\n",
              "      <th>confirmedCount</th>\n",
              "      <th>curedCount</th>\n",
              "      <th>deadCount</th>\n",
              "      <th>辽宁省</th>\n",
              "      <th>dateId</th>\n",
              "      <th>confirmedCount</th>\n",
              "      <th>curedCount</th>\n",
              "      <th>deadCount</th>\n",
              "      <th>...</th>\n",
              "      <th>山西省</th>\n",
              "      <th>dateId</th>\n",
              "      <th>confirmedCount</th>\n",
              "      <th>curedCount</th>\n",
              "      <th>deadCount</th>\n",
              "      <th>云南省</th>\n",
              "      <th>dateId</th>\n",
              "      <th>confirmedCount</th>\n",
              "      <th>curedCount</th>\n",
              "      <th>deadCount</th>\n",
              "      <th>贵州省</th>\n",
              "      <th>dateId</th>\n",
              "      <th>confirmedCount</th>\n",
              "      <th>curedCount</th>\n",
              "      <th>deadCount</th>\n",
              "      <th>甘肃省</th>\n",
              "      <th>dateId</th>\n",
              "      <th>confirmedCount</th>\n",
              "      <th>curedCount</th>\n",
              "      <th>deadCount</th>\n",
              "      <th>新疆维吾尔自治区</th>\n",
              "      <th>dateId</th>\n",
              "      <th>confirmedCount</th>\n",
              "      <th>curedCount</th>\n",
              "      <th>deadCount</th>\n",
              "      <th>宁夏回族自治区</th>\n",
              "      <th>dateId</th>\n",
              "      <th>confirmedCount</th>\n",
              "      <th>curedCount</th>\n",
              "      <th>deadCount</th>\n",
              "      <th>青海省</th>\n",
              "      <th>dateId</th>\n",
              "      <th>confirmedCount</th>\n",
              "      <th>curedCount</th>\n",
              "      <th>deadCount</th>\n",
              "      <th>西藏自治区</th>\n",
              "      <th>dateId</th>\n",
              "      <th>confirmedCount</th>\n",
              "      <th>curedCount</th>\n",
              "      <th>deadCount</th>\n",
              "    </tr>\n",
              "  </thead>\n",
              "  <tbody>\n",
              "    <tr>\n",
              "      <th>0</th>\n",
              "      <td>内蒙古自治区</td>\n",
              "      <td>2020-01-23</td>\n",
              "      <td>1</td>\n",
              "      <td>0</td>\n",
              "      <td>0</td>\n",
              "      <td>吉林省</td>\n",
              "      <td>2020-01-23</td>\n",
              "      <td>3</td>\n",
              "      <td>0</td>\n",
              "      <td>0</td>\n",
              "      <td>上海市</td>\n",
              "      <td>2020-01-20</td>\n",
              "      <td>1</td>\n",
              "      <td>0</td>\n",
              "      <td>0</td>\n",
              "      <td>湖北省</td>\n",
              "      <td>2020-01-20</td>\n",
              "      <td>270</td>\n",
              "      <td>25</td>\n",
              "      <td>6</td>\n",
              "      <td>广东省</td>\n",
              "      <td>2020-01-19</td>\n",
              "      <td>1</td>\n",
              "      <td>0</td>\n",
              "      <td>0</td>\n",
              "      <td>北京市</td>\n",
              "      <td>2020-01-20</td>\n",
              "      <td>5</td>\n",
              "      <td>0</td>\n",
              "      <td>0</td>\n",
              "      <td>四川省</td>\n",
              "      <td>2020-01-22</td>\n",
              "      <td>7</td>\n",
              "      <td>0</td>\n",
              "      <td>0</td>\n",
              "      <td>辽宁省</td>\n",
              "      <td>2020-01-22</td>\n",
              "      <td>2</td>\n",
              "      <td>0</td>\n",
              "      <td>0</td>\n",
              "      <td>...</td>\n",
              "      <td>山西省</td>\n",
              "      <td>2020-01-22</td>\n",
              "      <td>1</td>\n",
              "      <td>0</td>\n",
              "      <td>0</td>\n",
              "      <td>云南省</td>\n",
              "      <td>2020-01-24</td>\n",
              "      <td>5</td>\n",
              "      <td>0</td>\n",
              "      <td>0</td>\n",
              "      <td>贵州省</td>\n",
              "      <td>2020-01-23</td>\n",
              "      <td>3</td>\n",
              "      <td>0</td>\n",
              "      <td>0</td>\n",
              "      <td>甘肃省</td>\n",
              "      <td>2020-01-23</td>\n",
              "      <td>2</td>\n",
              "      <td>0</td>\n",
              "      <td>0</td>\n",
              "      <td>新疆维吾尔自治区</td>\n",
              "      <td>2020-01-23</td>\n",
              "      <td>2</td>\n",
              "      <td>0</td>\n",
              "      <td>0</td>\n",
              "      <td>宁夏回族自治区</td>\n",
              "      <td>2020-01-23</td>\n",
              "      <td>2</td>\n",
              "      <td>0</td>\n",
              "      <td>0</td>\n",
              "      <td>青海省</td>\n",
              "      <td>2020-01-25</td>\n",
              "      <td>1</td>\n",
              "      <td>0</td>\n",
              "      <td>0</td>\n",
              "      <td>西藏自治区</td>\n",
              "      <td>2020-01-29</td>\n",
              "      <td>1</td>\n",
              "      <td>0</td>\n",
              "      <td>0</td>\n",
              "    </tr>\n",
              "  </tbody>\n",
              "</table>\n",
              "<p>1 rows × 155 columns</p>\n",
              "</div>"
            ],
            "text/plain": [
              "   内蒙古自治区     dateId  confirmedCount  ...  confirmedCount  curedCount deadCount\n",
              "0  内蒙古自治区 2020-01-23               1  ...               1           0         0\n",
              "\n",
              "[1 rows x 155 columns]"
            ]
          },
          "metadata": {
            "tags": []
          },
          "execution_count": 7
        }
      ]
    },
    {
      "cell_type": "markdown",
      "metadata": {
        "id": "EAP9ter9bG0Q",
        "colab_type": "text"
      },
      "source": [
        "## outter_join\n",
        "把表格全部連接"
      ]
    },
    {
      "cell_type": "code",
      "metadata": {
        "id": "hKbsp0pAVcxa",
        "colab_type": "code",
        "outputId": "a691b683-ab4a-4ba3-d731-0a4d7eccd81d",
        "colab": {
          "base_uri": "https://localhost:8080/",
          "height": 34
        }
      },
      "source": [
        "\n",
        "data =[]\n",
        "province_ls= []\n",
        "with tqdm(total = len(all_data_url) ) as pbar:\n",
        "  for x in range (len(all_data_url)) :\n",
        "    df_all = pd.read_json(all_data_url['statisticsData'][x])\n",
        "    provinceName = all_data_url['provinceName'][x]\n",
        "    df_all['provincenae'] =provinceName\n",
        "    df_all = df_all.loc[:,['provincenae','data']]\n",
        "    province_ls.append(provinceName)\n",
        "    data.append(df_all)\n",
        "    pbar.update()"
      ],
      "execution_count": 9,
      "outputs": [
        {
          "output_type": "stream",
          "text": [
            "100%|██████████| 31/31 [00:02<00:00, 11.14it/s]\n"
          ],
          "name": "stderr"
        }
      ]
    },
    {
      "cell_type": "code",
      "metadata": {
        "id": "LKgk7Houaxyk",
        "colab_type": "code",
        "outputId": "571ba7da-bbfc-4060-ea72-9abda4fa9d2c",
        "colab": {
          "base_uri": "https://localhost:8080/",
          "height": 51
        }
      },
      "source": [
        "csv_colums = []\n",
        "province_add = []\n",
        "with tqdm(total = len(data) ) as pbar:\n",
        "  for x in data:\n",
        "    for xs in x['data']:\n",
        "      \n",
        "      csv_colums.append({'dateId':xs['dateId'],\n",
        "          'confirmedCount':xs['confirmedCount'],\n",
        "          'curedCount':xs['curedCount'],\n",
        "          'deadCount':xs['deadCount']})\n",
        "      pbar.update()\n",
        "\n",
        "\n",
        "with tqdm(total = len(data) ) as pbar:\n",
        "  for x in data:\n",
        "    for xs in x['provincenae']:\n",
        "      \n",
        "      province_add.append({'provinceName':xs})\n",
        "      pbar.update()"
      ],
      "execution_count": 11,
      "outputs": [
        {
          "output_type": "stream",
          "text": [
            "3836it [00:00, 281937.90it/s]         \n",
            "3836it [00:00, 400561.41it/s]         \n"
          ],
          "name": "stderr"
        }
      ]
    },
    {
      "cell_type": "code",
      "metadata": {
        "id": "9s3PwdRKd20Q",
        "colab_type": "code",
        "colab": {}
      },
      "source": [
        "df_csv = pd.DataFrame(csv_colums)\n",
        "df_name = pd.DataFrame(province_add)\n",
        "df_allin= pd.concat([df_name,df_csv],axis=1)\n",
        "#time_Serzise \n",
        "df_allin['dateId']= pd.to_datetime(df_allin['dateId'], format='%Y%m%d', errors='ignore')"
      ],
      "execution_count": 0,
      "outputs": []
    },
    {
      "cell_type": "code",
      "metadata": {
        "id": "myX9gZFORbwx",
        "colab_type": "code",
        "outputId": "99f1f221-a071-4a20-cf59-2baf59756bad",
        "colab": {
          "base_uri": "https://localhost:8080/",
          "height": 109
        }
      },
      "source": [
        "df_allin.sample(2)"
      ],
      "execution_count": 16,
      "outputs": [
        {
          "output_type": "execute_result",
          "data": {
            "text/html": [
              "<div>\n",
              "<style scoped>\n",
              "    .dataframe tbody tr th:only-of-type {\n",
              "        vertical-align: middle;\n",
              "    }\n",
              "\n",
              "    .dataframe tbody tr th {\n",
              "        vertical-align: top;\n",
              "    }\n",
              "\n",
              "    .dataframe thead th {\n",
              "        text-align: right;\n",
              "    }\n",
              "</style>\n",
              "<table border=\"1\" class=\"dataframe\">\n",
              "  <thead>\n",
              "    <tr style=\"text-align: right;\">\n",
              "      <th></th>\n",
              "      <th>provinceName</th>\n",
              "      <th>dateId</th>\n",
              "      <th>confirmedCount</th>\n",
              "      <th>curedCount</th>\n",
              "      <th>deadCount</th>\n",
              "    </tr>\n",
              "  </thead>\n",
              "  <tbody>\n",
              "    <tr>\n",
              "      <th>1087</th>\n",
              "      <td>山东省</td>\n",
              "      <td>2020-04-20</td>\n",
              "      <td>787</td>\n",
              "      <td>765</td>\n",
              "      <td>7</td>\n",
              "    </tr>\n",
              "    <tr>\n",
              "      <th>285</th>\n",
              "      <td>上海市</td>\n",
              "      <td>2020-02-28</td>\n",
              "      <td>337</td>\n",
              "      <td>279</td>\n",
              "      <td>3</td>\n",
              "    </tr>\n",
              "  </tbody>\n",
              "</table>\n",
              "</div>"
            ],
            "text/plain": [
              "     provinceName     dateId  confirmedCount  curedCount  deadCount\n",
              "1087          山东省 2020-04-20             787         765          7\n",
              "285           上海市 2020-02-28             337         279          3"
            ]
          },
          "metadata": {
            "tags": []
          },
          "execution_count": 16
        }
      ]
    },
    {
      "cell_type": "code",
      "metadata": {
        "id": "UNqaZf9zrxta",
        "colab_type": "code",
        "colab": {}
      },
      "source": [
        "df_allin.to_csv('/content/drive/My Drive/PAPER/df_all.csv')"
      ],
      "execution_count": 0,
      "outputs": []
    }
  ]
}